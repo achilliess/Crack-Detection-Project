{
 "cells": [
  {
   "cell_type": "code",
   "execution_count": 2,
   "id": "f8de6411-b773-4a7a-a5f3-de51fcb7729d",
   "metadata": {},
   "outputs": [],
   "source": [
    "import os\n",
    "import shutil\n",
    "import torch\n",
    "import torchvision.models as models\n",
    "from ultralytics import YOLO\n",
    "from sklearn.model_selection import train_test_split"
   ]
  },
  {
   "cell_type": "code",
   "execution_count": 4,
   "id": "0f2766ee-cfc8-40c5-8ca2-992ac9b25228",
   "metadata": {},
   "outputs": [],
   "source": [
    "# Define paths\n",
    "train_images_dir = \"C:\\\\Users\\\\Mohammad\\\\Desktop\\\\New folder (2)\\\\archive-6\\\\train-pure\\\\train-pure\\\\images\\\\train\"\n",
    "train_labels_dir = \"C:\\\\Users\\\\Mohammad\\\\Desktop\\\\New folder (2)\\\\archive-6\\\\train-pure\\\\train-pure\\\\labels\\\\train\"\n",
    "val_images_dir = \"C:\\\\Users\\\\Mohammad\\\\Desktop\\\\New folder (2)\\\\archive-6\\\\valid\\\\valid\\\\images\"\n",
    "val_labels_dir = \"C:\\\\Users\\\\Mohammad\\\\Desktop\\\\New folder (2)\\\\archive-6\\\\valid\\\\valid\\\\labels\"\n",
    "test_images_dir = \"C:\\\\Users\\\\Mohammad\\\\Desktop\\\\New folder (2)\\\\archive-6\\\\train-pure\\\\train-pure\\\\images\\\\test\"\n",
    "test_labels_dir = \"C:\\\\Users\\\\Mohammad\\\\Desktop\\\\New folder (2)\\\\archive-6\\\\train-pure\\\\train-pure\\\\labels\\\\test\""
   ]
  },
  {
   "cell_type": "code",
   "execution_count": 6,
   "id": "ce116c0d-3319-4264-a717-b4556e9e9d8e",
   "metadata": {},
   "outputs": [
    {
     "name": "stderr",
     "output_type": "stream",
     "text": [
      "C:\\Users\\Mohammad\\anaconda3\\Lib\\site-packages\\torchvision\\models\\_utils.py:208: UserWarning: The parameter 'pretrained' is deprecated since 0.13 and may be removed in the future, please use 'weights' instead.\n",
      "  warnings.warn(\n",
      "C:\\Users\\Mohammad\\anaconda3\\Lib\\site-packages\\torchvision\\models\\_utils.py:223: UserWarning: Arguments other than a weight enum or `None` for 'weights' are deprecated since 0.13 and may be removed in the future. The current behavior is equivalent to passing `weights=ResNet152_Weights.IMAGENET1K_V1`. You can also use `weights=ResNet152_Weights.DEFAULT` to get the most up-to-date weights.\n",
      "  warnings.warn(msg)\n"
     ]
    }
   ],
   "source": [
    "# Define a custom ResNet152 backbone\n",
    "class CustomResNet152Backbone(torch.nn.Module):\n",
    "    def __init__(self):\n",
    "        super(CustomResNet152Backbone, self).__init__()\n",
    "        self.backbone = models.resnet152(pretrained=True)\n",
    "        self.backbone = torch.nn.Sequential(*(list(self.backbone.children())[:-2]))\n",
    "\n",
    "    def forward(self, x):\n",
    "        return self.backbone(x)\n",
    "\n",
    "# Load YOLOv8 with a custom backbone\n",
    "model = YOLO('yolov8s.pt')  # Load a small YOLOv8 model to modify\n",
    "model.model.backbone = CustomResNet152Backbone()\n",
    "\n",
    "# Configure the optimizer and loss function\n",
    "model.model.optimizer = torch.optim.Adam(model.model.parameters(), lr=1e-4)\n",
    "model.model.loss = torch.nn.BCEWithLogitsLoss()"
   ]
  },
  {
   "cell_type": "code",
   "execution_count": 8,
   "id": "84d7df6d-fcc1-425d-8370-061bbc4c505b",
   "metadata": {},
   "outputs": [
    {
     "name": "stderr",
     "output_type": "stream",
     "text": [
      "Ultralytics YOLOv8.0.196  Python-3.12.4 torch-2.3.1+cu118 CUDA:0 (NVIDIA GeForce RTX 4060 Laptop GPU, 8188MiB)\n",
      "\u001b[34m\u001b[1mengine\\trainer: \u001b[0mtask=detect, mode=train, model=yolov8s.pt, data=data.yaml, epochs=100, patience=50, batch=16, imgsz=640, save=True, save_period=-1, cache=False, device=None, workers=8, project=None, name=yolov8_road_pavement, exist_ok=False, pretrained=True, optimizer=auto, verbose=True, seed=0, deterministic=True, single_cls=False, rect=False, cos_lr=False, close_mosaic=10, resume=False, amp=True, fraction=1.0, profile=False, freeze=None, overlap_mask=True, mask_ratio=4, dropout=0.0, val=True, split=val, save_json=False, save_hybrid=False, conf=None, iou=0.7, max_det=300, half=False, dnn=False, plots=True, source=None, show=False, save_txt=False, save_conf=False, save_crop=False, show_labels=True, show_conf=True, vid_stride=1, stream_buffer=False, line_width=None, visualize=False, augment=False, agnostic_nms=False, classes=None, retina_masks=False, boxes=True, format=torchscript, keras=False, optimize=False, int8=False, dynamic=False, simplify=False, opset=None, workspace=4, nms=False, lr0=0.01, lrf=0.01, momentum=0.937, weight_decay=0.0005, warmup_epochs=3.0, warmup_momentum=0.8, warmup_bias_lr=0.1, box=7.5, cls=0.5, dfl=1.5, pose=12.0, kobj=1.0, label_smoothing=0.0, nbs=64, hsv_h=0.015, hsv_s=0.7, hsv_v=0.4, degrees=0.0, translate=0.1, scale=0.5, shear=0.0, perspective=0.0, flipud=0.0, fliplr=0.5, mosaic=1.0, mixup=0.0, copy_paste=0.0, cfg=None, tracker=botsort.yaml, save_dir=runs\\detect\\yolov8_road_pavement10\n",
      "Overriding model.yaml nc=80 with nc=1\n",
      "\n",
      "                   from  n    params  module                                       arguments                     \n",
      "  0                  -1  1       928  ultralytics.nn.modules.conv.Conv             [3, 32, 3, 2]                 \n",
      "  1                  -1  1     18560  ultralytics.nn.modules.conv.Conv             [32, 64, 3, 2]                \n",
      "  2                  -1  1     29056  ultralytics.nn.modules.block.C2f             [64, 64, 1, True]             \n",
      "  3                  -1  1     73984  ultralytics.nn.modules.conv.Conv             [64, 128, 3, 2]               \n",
      "  4                  -1  2    197632  ultralytics.nn.modules.block.C2f             [128, 128, 2, True]           \n",
      "  5                  -1  1    295424  ultralytics.nn.modules.conv.Conv             [128, 256, 3, 2]              \n",
      "  6                  -1  2    788480  ultralytics.nn.modules.block.C2f             [256, 256, 2, True]           \n",
      "  7                  -1  1   1180672  ultralytics.nn.modules.conv.Conv             [256, 512, 3, 2]              \n",
      "  8                  -1  1   1838080  ultralytics.nn.modules.block.C2f             [512, 512, 1, True]           \n",
      "  9                  -1  1    656896  ultralytics.nn.modules.block.SPPF            [512, 512, 5]                 \n",
      " 10                  -1  1         0  torch.nn.modules.upsampling.Upsample         [None, 2, 'nearest']          \n",
      " 11             [-1, 6]  1         0  ultralytics.nn.modules.conv.Concat           [1]                           \n",
      " 12                  -1  1    591360  ultralytics.nn.modules.block.C2f             [768, 256, 1]                 \n",
      " 13                  -1  1         0  torch.nn.modules.upsampling.Upsample         [None, 2, 'nearest']          \n",
      " 14             [-1, 4]  1         0  ultralytics.nn.modules.conv.Concat           [1]                           \n",
      " 15                  -1  1    148224  ultralytics.nn.modules.block.C2f             [384, 128, 1]                 \n",
      " 16                  -1  1    147712  ultralytics.nn.modules.conv.Conv             [128, 128, 3, 2]              \n",
      " 17            [-1, 12]  1         0  ultralytics.nn.modules.conv.Concat           [1]                           \n",
      " 18                  -1  1    493056  ultralytics.nn.modules.block.C2f             [384, 256, 1]                 \n",
      " 19                  -1  1    590336  ultralytics.nn.modules.conv.Conv             [256, 256, 3, 2]              \n",
      " 20             [-1, 9]  1         0  ultralytics.nn.modules.conv.Concat           [1]                           \n",
      " 21                  -1  1   1969152  ultralytics.nn.modules.block.C2f             [768, 512, 1]                 \n",
      " 22        [15, 18, 21]  1   2116435  ultralytics.nn.modules.head.Detect           [1, [128, 256, 512]]          \n",
      "Model summary: 225 layers, 11135987 parameters, 11135971 gradients, 28.6 GFLOPs\n",
      "\n",
      "Transferred 349/355 items from pretrained weights\n",
      "Freezing layer 'model.22.dfl.conv.weight'\n",
      "\u001b[34m\u001b[1mAMP: \u001b[0mrunning Automatic Mixed Precision (AMP) checks with YOLOv8n...\n",
      "\u001b[34m\u001b[1mAMP: \u001b[0mchecks passed \n",
      "\u001b[34m\u001b[1mtrain: \u001b[0mScanning C:\\Users\\Mohammad\\Desktop\\New folder (2)\\archive-6\\train-pure\\train-pure\\labels\\train.cache... 4769 ima\u001b[0m\n",
      "\u001b[34m\u001b[1mtrain: \u001b[0mWARNING  C:\\Users\\Mohammad\\Desktop\\New folder (2)\\archive-6\\train-pure\\train-pure\\images\\train\\G0011603_jpg.rf.09429ea95f92043993c1d214b8ad84ed.jpg: 1 duplicate labels removed\n",
      "\u001b[34m\u001b[1mtrain: \u001b[0mWARNING  C:\\Users\\Mohammad\\Desktop\\New folder (2)\\archive-6\\train-pure\\train-pure\\images\\train\\G0011661_jpg.rf.f81cbd213dfad9a82cc707688a8377ba.jpg: 1 duplicate labels removed\n",
      "\u001b[34m\u001b[1mtrain: \u001b[0mWARNING  C:\\Users\\Mohammad\\Desktop\\New folder (2)\\archive-6\\train-pure\\train-pure\\images\\train\\G0011662_jpg.rf.125038d7861d031c2c2ca449d9cb64d3.jpg: 1 duplicate labels removed\n",
      "\u001b[34m\u001b[1mtrain: \u001b[0mWARNING  C:\\Users\\Mohammad\\Desktop\\New folder (2)\\archive-6\\train-pure\\train-pure\\images\\train\\G0011664_jpg.rf.dbe6c8390b11d7fb7f763f1b106885bd.jpg: 1 duplicate labels removed\n",
      "\u001b[34m\u001b[1mtrain: \u001b[0mWARNING  C:\\Users\\Mohammad\\Desktop\\New folder (2)\\archive-6\\train-pure\\train-pure\\images\\train\\G0011677_jpg.rf.0c1973429df0b1f8f3e90a2af29d4f1c.jpg: 1 duplicate labels removed\n",
      "\u001b[34m\u001b[1mtrain: \u001b[0mWARNING  C:\\Users\\Mohammad\\Desktop\\New folder (2)\\archive-6\\train-pure\\train-pure\\images\\train\\G0011678_jpg.rf.172ae13d7628f34768e9163dba2fb1ed.jpg: 1 duplicate labels removed\n",
      "\u001b[34m\u001b[1mtrain: \u001b[0mWARNING  C:\\Users\\Mohammad\\Desktop\\New folder (2)\\archive-6\\train-pure\\train-pure\\images\\train\\G0011772_jpg.rf.410bd588a68385b2c9d23b4a7c9c41e7.jpg: 4 duplicate labels removed\n",
      "\u001b[34m\u001b[1mtrain: \u001b[0mWARNING  C:\\Users\\Mohammad\\Desktop\\New folder (2)\\archive-6\\train-pure\\train-pure\\images\\train\\G0011773_jpg.rf.f464fe4397fa996d8223bf9e91438353.jpg: 2 duplicate labels removed\n",
      "\u001b[34m\u001b[1mtrain: \u001b[0mWARNING  C:\\Users\\Mohammad\\Desktop\\New folder (2)\\archive-6\\train-pure\\train-pure\\images\\train\\G0011876_jpg.rf.77b557f5406356edec1b785c4249ff28.jpg: 2 duplicate labels removed\n",
      "\u001b[34m\u001b[1mtrain: \u001b[0mWARNING  C:\\Users\\Mohammad\\Desktop\\New folder (2)\\archive-6\\train-pure\\train-pure\\images\\train\\G0011881_jpg.rf.738b450fda4029886c5b1ccaf58fce0a.jpg: 2 duplicate labels removed\n",
      "\u001b[34m\u001b[1mtrain: \u001b[0mWARNING  C:\\Users\\Mohammad\\Desktop\\New folder (2)\\archive-6\\train-pure\\train-pure\\images\\train\\G0011966_jpg.rf.a7936c303f654fa094ddf0f8b3d3f1e5.jpg: 2 duplicate labels removed\n",
      "\u001b[34m\u001b[1mtrain: \u001b[0mWARNING  C:\\Users\\Mohammad\\Desktop\\New folder (2)\\archive-6\\train-pure\\train-pure\\images\\train\\G0011969_jpg.rf.3e394301e1a225c05923411f05f4f82d.jpg: 2 duplicate labels removed\n",
      "\u001b[34m\u001b[1mtrain: \u001b[0mWARNING  C:\\Users\\Mohammad\\Desktop\\New folder (2)\\archive-6\\train-pure\\train-pure\\images\\train\\G0011970_jpg.rf.94437034c6f198d847e58f73dad5887a.jpg: 1 duplicate labels removed\n",
      "\u001b[34m\u001b[1mtrain: \u001b[0mWARNING  C:\\Users\\Mohammad\\Desktop\\New folder (2)\\archive-6\\train-pure\\train-pure\\images\\train\\G0011978_jpg.rf.8de8cd01d2e23a82553f72e30a05270b.jpg: 2 duplicate labels removed\n",
      "\u001b[34m\u001b[1mtrain: \u001b[0mWARNING  C:\\Users\\Mohammad\\Desktop\\New folder (2)\\archive-6\\train-pure\\train-pure\\images\\train\\G0011981_jpg.rf.31e575c52222184b8606b4ba3d2eb315.jpg: 2 duplicate labels removed\n",
      "\u001b[34m\u001b[1mtrain: \u001b[0mWARNING  C:\\Users\\Mohammad\\Desktop\\New folder (2)\\archive-6\\train-pure\\train-pure\\images\\train\\G0063927_jpg.rf.d230167e2c2c48afb617eb2a2a73207f.jpg: 1 duplicate labels removed\n",
      "\u001b[34m\u001b[1mtrain: \u001b[0mWARNING  C:\\Users\\Mohammad\\Desktop\\New folder (2)\\archive-6\\train-pure\\train-pure\\images\\train\\G0064103_jpg.rf.91848775daf25b06c61bdb80229b4e67.jpg: 2 duplicate labels removed\n",
      "\u001b[34m\u001b[1mtrain: \u001b[0mWARNING  C:\\Users\\Mohammad\\Desktop\\New folder (2)\\archive-6\\train-pure\\train-pure\\images\\train\\G0064186_jpg.rf.2f05ab9dd6f3efd4817cd80ad6531fd7.jpg: 1 duplicate labels removed\n",
      "\u001b[34m\u001b[1mtrain: \u001b[0mWARNING  C:\\Users\\Mohammad\\Desktop\\New folder (2)\\archive-6\\train-pure\\train-pure\\images\\train\\G0064187_jpg.rf.aa9cf3cc2abdb80b1415d4c635311fb0.jpg: 1 duplicate labels removed\n",
      "\u001b[34m\u001b[1mtrain: \u001b[0mWARNING  C:\\Users\\Mohammad\\Desktop\\New folder (2)\\archive-6\\train-pure\\train-pure\\images\\train\\G0064410_jpg.rf.087390563505c189ab600fcf9ee58c2d.jpg: 4 duplicate labels removed\n",
      "\u001b[34m\u001b[1mtrain: \u001b[0mWARNING  C:\\Users\\Mohammad\\Desktop\\New folder (2)\\archive-6\\train-pure\\train-pure\\images\\train\\G0064411_jpg.rf.d04add0f71e9ac4ceefe035ec19ddf0f.jpg: 2 duplicate labels removed\n",
      "\u001b[34m\u001b[1mtrain: \u001b[0mWARNING  C:\\Users\\Mohammad\\Desktop\\New folder (2)\\archive-6\\train-pure\\train-pure\\images\\train\\G0064412_jpg.rf.f7cef6a361778dc9c36beca420d20ced.jpg: 1 duplicate labels removed\n",
      "\u001b[34m\u001b[1mtrain: \u001b[0mWARNING  C:\\Users\\Mohammad\\Desktop\\New folder (2)\\archive-6\\train-pure\\train-pure\\images\\train\\G0064413_jpg.rf.d321e956b9c80930949241b249a7d9e6.jpg: 2 duplicate labels removed\n",
      "\u001b[34m\u001b[1mtrain: \u001b[0mWARNING  C:\\Users\\Mohammad\\Desktop\\New folder (2)\\archive-6\\train-pure\\train-pure\\images\\train\\G0064414_jpg.rf.25cee5f632f2a20f4387e92109b5c6ea.jpg: 5 duplicate labels removed\n",
      "\u001b[34m\u001b[1mtrain: \u001b[0mWARNING  C:\\Users\\Mohammad\\Desktop\\New folder (2)\\archive-6\\train-pure\\train-pure\\images\\train\\G0064415_jpg.rf.96eff24f6f86f1cd25c8aa0a3afbc904.jpg: 6 duplicate labels removed\n",
      "\u001b[34m\u001b[1mtrain: \u001b[0mWARNING  C:\\Users\\Mohammad\\Desktop\\New folder (2)\\archive-6\\train-pure\\train-pure\\images\\train\\G0064416_jpg.rf.578eb32f2d4c5be5892fa48c0d7bd0b4.jpg: 5 duplicate labels removed\n",
      "\u001b[34m\u001b[1mtrain: \u001b[0mWARNING  C:\\Users\\Mohammad\\Desktop\\New folder (2)\\archive-6\\train-pure\\train-pure\\images\\train\\G0064417_jpg.rf.591a1f0d8b57841edc3d120408f72825.jpg: 6 duplicate labels removed\n",
      "\u001b[34m\u001b[1mtrain: \u001b[0mWARNING  C:\\Users\\Mohammad\\Desktop\\New folder (2)\\archive-6\\train-pure\\train-pure\\images\\train\\G0064418_jpg.rf.8f65e9bd4ab755aecf2655e239787444.jpg: 6 duplicate labels removed\n",
      "\u001b[34m\u001b[1mtrain: \u001b[0mWARNING  C:\\Users\\Mohammad\\Desktop\\New folder (2)\\archive-6\\train-pure\\train-pure\\images\\train\\G0064419_jpg.rf.d6bf815405bb052be74362a7300974ba.jpg: 4 duplicate labels removed\n",
      "\u001b[34m\u001b[1mtrain: \u001b[0mWARNING  C:\\Users\\Mohammad\\Desktop\\New folder (2)\\archive-6\\train-pure\\train-pure\\images\\train\\G0064420_jpg.rf.ed20c828e83740acc56c9863402c5417.jpg: 3 duplicate labels removed\n",
      "\u001b[34m\u001b[1mtrain: \u001b[0mWARNING  C:\\Users\\Mohammad\\Desktop\\New folder (2)\\archive-6\\train-pure\\train-pure\\images\\train\\G0064426_jpg.rf.3e4e8cdde26200bc1c660c9901fa4675.jpg: 1 duplicate labels removed\n",
      "\u001b[34m\u001b[1mtrain: \u001b[0mWARNING  C:\\Users\\Mohammad\\Desktop\\New folder (2)\\archive-6\\train-pure\\train-pure\\images\\train\\G0064429_jpg.rf.20bba86526070a1c74786e165c41e450.jpg: 2 duplicate labels removed\n",
      "\u001b[34m\u001b[1mtrain: \u001b[0mWARNING  C:\\Users\\Mohammad\\Desktop\\New folder (2)\\archive-6\\train-pure\\train-pure\\images\\train\\G0064430_jpg.rf.e104857054791a195c189abcf60025f0.jpg: 1 duplicate labels removed\n",
      "\u001b[34m\u001b[1mtrain: \u001b[0mWARNING  C:\\Users\\Mohammad\\Desktop\\New folder (2)\\archive-6\\train-pure\\train-pure\\images\\train\\G0064431_jpg.rf.be09dd9f34d152b3fddc81de03921e6c.jpg: 2 duplicate labels removed\n",
      "\u001b[34m\u001b[1mtrain: \u001b[0mWARNING  C:\\Users\\Mohammad\\Desktop\\New folder (2)\\archive-6\\train-pure\\train-pure\\images\\train\\G0064432_jpg.rf.1b0bad93c99207fc65b374b9dc05ed37.jpg: 2 duplicate labels removed\n",
      "\u001b[34m\u001b[1mtrain: \u001b[0mWARNING  C:\\Users\\Mohammad\\Desktop\\New folder (2)\\archive-6\\train-pure\\train-pure\\images\\train\\G0064434_jpg.rf.e8c2c62685ac5f0889fd8312521c9b00.jpg: 1 duplicate labels removed\n",
      "\u001b[34m\u001b[1mtrain: \u001b[0mWARNING  C:\\Users\\Mohammad\\Desktop\\New folder (2)\\archive-6\\train-pure\\train-pure\\images\\train\\G0064439_jpg.rf.b4f6454af8d97d0956530f369035a846.jpg: 3 duplicate labels removed\n",
      "\u001b[34m\u001b[1mtrain: \u001b[0mWARNING  C:\\Users\\Mohammad\\Desktop\\New folder (2)\\archive-6\\train-pure\\train-pure\\images\\train\\G0064440_jpg.rf.f304b61cc0ce9c28fde0f930fe2ba803.jpg: 5 duplicate labels removed\n",
      "\u001b[34m\u001b[1mtrain: \u001b[0mWARNING  C:\\Users\\Mohammad\\Desktop\\New folder (2)\\archive-6\\train-pure\\train-pure\\images\\train\\G0064441_jpg.rf.7da84098fefe2b7fa295d07b7f5942dc.jpg: 4 duplicate labels removed\n",
      "\u001b[34m\u001b[1mtrain: \u001b[0mWARNING  C:\\Users\\Mohammad\\Desktop\\New folder (2)\\archive-6\\train-pure\\train-pure\\images\\train\\G0064442_jpg.rf.0bc0d3a9572401fcb42a86c4d7193028.jpg: 4 duplicate labels removed\n",
      "\u001b[34m\u001b[1mtrain: \u001b[0mWARNING  C:\\Users\\Mohammad\\Desktop\\New folder (2)\\archive-6\\train-pure\\train-pure\\images\\train\\G0064443_jpg.rf.89a06fa231ca4fb3413e5f9db7ae6654.jpg: 4 duplicate labels removed\n",
      "\u001b[34m\u001b[1mtrain: \u001b[0mWARNING  C:\\Users\\Mohammad\\Desktop\\New folder (2)\\archive-6\\train-pure\\train-pure\\images\\train\\G0064444_jpg.rf.efc2d6cf3154dc732bf24d7b9449083b.jpg: 3 duplicate labels removed\n",
      "\u001b[34m\u001b[1mtrain: \u001b[0mWARNING  C:\\Users\\Mohammad\\Desktop\\New folder (2)\\archive-6\\train-pure\\train-pure\\images\\train\\G0064447_jpg.rf.13f73cb2d50378d63fbce656af6b30f9.jpg: 1 duplicate labels removed\n",
      "\u001b[34m\u001b[1mtrain: \u001b[0mWARNING  C:\\Users\\Mohammad\\Desktop\\New folder (2)\\archive-6\\train-pure\\train-pure\\images\\train\\G0064448_jpg.rf.da41213fd7c77741ccf47e0ed9e50645.jpg: 1 duplicate labels removed\n",
      "\u001b[34m\u001b[1mtrain: \u001b[0mWARNING  C:\\Users\\Mohammad\\Desktop\\New folder (2)\\archive-6\\train-pure\\train-pure\\images\\train\\G0064450_jpg.rf.f164c66feb872d7fec670689d2278645.jpg: 1 duplicate labels removed\n",
      "\u001b[34m\u001b[1mtrain: \u001b[0mWARNING  C:\\Users\\Mohammad\\Desktop\\New folder (2)\\archive-6\\train-pure\\train-pure\\images\\train\\G0064452_jpg.rf.6f799216469aa90d45abb55b380b3a74.jpg: 1 duplicate labels removed\n",
      "\u001b[34m\u001b[1mtrain: \u001b[0mWARNING  C:\\Users\\Mohammad\\Desktop\\New folder (2)\\archive-6\\train-pure\\train-pure\\images\\train\\G0064453_jpg.rf.95d11538bbc8c20316b61f77a808372f.jpg: 1 duplicate labels removed\n",
      "\u001b[34m\u001b[1mtrain: \u001b[0mWARNING  C:\\Users\\Mohammad\\Desktop\\New folder (2)\\archive-6\\train-pure\\train-pure\\images\\train\\G0064454_jpg.rf.cab66da39d76b6150731eae9cf62d7ae.jpg: 1 duplicate labels removed\n",
      "\u001b[34m\u001b[1mtrain: \u001b[0mWARNING  C:\\Users\\Mohammad\\Desktop\\New folder (2)\\archive-6\\train-pure\\train-pure\\images\\train\\G0064461_jpg.rf.743c4c83176be6ab792769dd9de1fe7d.jpg: 1 duplicate labels removed\n",
      "\u001b[34m\u001b[1mtrain: \u001b[0mWARNING  C:\\Users\\Mohammad\\Desktop\\New folder (2)\\archive-6\\train-pure\\train-pure\\images\\train\\G0064462_jpg.rf.77119e6829a323c1d4e572524476e292.jpg: 1 duplicate labels removed\n",
      "\u001b[34m\u001b[1mtrain: \u001b[0mWARNING  C:\\Users\\Mohammad\\Desktop\\New folder (2)\\archive-6\\train-pure\\train-pure\\images\\train\\G0064489_jpg.rf.974732ba3a564645706685a7c5d620dd.jpg: 4 duplicate labels removed\n",
      "\u001b[34m\u001b[1mtrain: \u001b[0mWARNING  C:\\Users\\Mohammad\\Desktop\\New folder (2)\\archive-6\\train-pure\\train-pure\\images\\train\\G0064490_jpg.rf.47952c97f4bab1e6f050e8bcf1dde85f.jpg: 4 duplicate labels removed\n",
      "\u001b[34m\u001b[1mtrain: \u001b[0mWARNING  C:\\Users\\Mohammad\\Desktop\\New folder (2)\\archive-6\\train-pure\\train-pure\\images\\train\\G0064517_jpg.rf.9df79ae158087652762a2fe4dd1b8634.jpg: 5 duplicate labels removed\n",
      "\u001b[34m\u001b[1mtrain: \u001b[0mWARNING  C:\\Users\\Mohammad\\Desktop\\New folder (2)\\archive-6\\train-pure\\train-pure\\images\\train\\G0064518_jpg.rf.6193dbd2667bbed9b91498b17d401c87.jpg: 4 duplicate labels removed\n",
      "\u001b[34m\u001b[1mtrain: \u001b[0mWARNING  C:\\Users\\Mohammad\\Desktop\\New folder (2)\\archive-6\\train-pure\\train-pure\\images\\train\\G0064519_jpg.rf.b9a69a1ea27b594bbb9d5cccce5d64c4.jpg: 4 duplicate labels removed\n",
      "\u001b[34m\u001b[1mtrain: \u001b[0mWARNING  C:\\Users\\Mohammad\\Desktop\\New folder (2)\\archive-6\\train-pure\\train-pure\\images\\train\\G0064520_jpg.rf.d84bc979a597681ee7134839b084853f.jpg: 7 duplicate labels removed\n",
      "\u001b[34m\u001b[1mtrain: \u001b[0mWARNING  C:\\Users\\Mohammad\\Desktop\\New folder (2)\\archive-6\\train-pure\\train-pure\\images\\train\\G0064521_jpg.rf.b0b6d1173f6bbd423b9b73275203f9e9.jpg: 6 duplicate labels removed\n",
      "\u001b[34m\u001b[1mtrain: \u001b[0mWARNING  C:\\Users\\Mohammad\\Desktop\\New folder (2)\\archive-6\\train-pure\\train-pure\\images\\train\\G0064522_jpg.rf.4c061895fac602ef09b203f57888cbb7.jpg: 8 duplicate labels removed\n",
      "\u001b[34m\u001b[1mtrain: \u001b[0mWARNING  C:\\Users\\Mohammad\\Desktop\\New folder (2)\\archive-6\\train-pure\\train-pure\\images\\train\\G0064524_jpg.rf.243f9a5dd86b9b5da8ad8e20c0b5962b.jpg: 6 duplicate labels removed\n",
      "\u001b[34m\u001b[1mtrain: \u001b[0mWARNING  C:\\Users\\Mohammad\\Desktop\\New folder (2)\\archive-6\\train-pure\\train-pure\\images\\train\\G0064525_jpg.rf.7f218c76e10e24a8d5d2539de18a2217.jpg: 8 duplicate labels removed\n",
      "\u001b[34m\u001b[1mtrain: \u001b[0mWARNING  C:\\Users\\Mohammad\\Desktop\\New folder (2)\\archive-6\\train-pure\\train-pure\\images\\train\\G0064526_jpg.rf.6c20b3786b59945c0aa8d4dd6f75e15d.jpg: 6 duplicate labels removed\n",
      "\u001b[34m\u001b[1mtrain: \u001b[0mWARNING  C:\\Users\\Mohammad\\Desktop\\New folder (2)\\archive-6\\train-pure\\train-pure\\images\\train\\G0064528_jpg.rf.f95da6ed89ea974bb5b1fbba3d1cc368.jpg: 3 duplicate labels removed\n",
      "\u001b[34m\u001b[1mtrain: \u001b[0mWARNING  C:\\Users\\Mohammad\\Desktop\\New folder (2)\\archive-6\\train-pure\\train-pure\\images\\train\\G0064529_jpg.rf.06345d28971edeb6e65b0d66d5579b1b.jpg: 3 duplicate labels removed\n",
      "\u001b[34m\u001b[1mtrain: \u001b[0mWARNING  C:\\Users\\Mohammad\\Desktop\\New folder (2)\\archive-6\\train-pure\\train-pure\\images\\train\\G0064533_jpg.rf.1241e7b2477b609b67c39b9f355aff78.jpg: 1 duplicate labels removed\n",
      "\u001b[34m\u001b[1mtrain: \u001b[0mWARNING  C:\\Users\\Mohammad\\Desktop\\New folder (2)\\archive-6\\train-pure\\train-pure\\images\\train\\G0064535_jpg.rf.881937087977918547aa3c4887ba3e0f.jpg: 4 duplicate labels removed\n",
      "\u001b[34m\u001b[1mtrain: \u001b[0mWARNING  C:\\Users\\Mohammad\\Desktop\\New folder (2)\\archive-6\\train-pure\\train-pure\\images\\train\\G0064536_jpg.rf.8672a3087d2d973228c2b979892310a2.jpg: 2 duplicate labels removed\n",
      "\u001b[34m\u001b[1mtrain: \u001b[0mWARNING  C:\\Users\\Mohammad\\Desktop\\New folder (2)\\archive-6\\train-pure\\train-pure\\images\\train\\G0064538_jpg.rf.1a3a3ea6768b10121dd168349d4d6e92.jpg: 2 duplicate labels removed\n",
      "\u001b[34m\u001b[1mtrain: \u001b[0mWARNING  C:\\Users\\Mohammad\\Desktop\\New folder (2)\\archive-6\\train-pure\\train-pure\\images\\train\\G0064543_jpg.rf.55bd140afa3a0b332e33b6ce7c21f529.jpg: 2 duplicate labels removed\n",
      "\u001b[34m\u001b[1mtrain: \u001b[0mWARNING  C:\\Users\\Mohammad\\Desktop\\New folder (2)\\archive-6\\train-pure\\train-pure\\images\\train\\G0064547_jpg.rf.e207ffc75acb60d256ded30e7e53067a.jpg: 1 duplicate labels removed\n",
      "\u001b[34m\u001b[1mtrain: \u001b[0mWARNING  C:\\Users\\Mohammad\\Desktop\\New folder (2)\\archive-6\\train-pure\\train-pure\\images\\train\\G0064550_jpg.rf.b9e3060d87d598dbade7567a885b2fb9.jpg: 1 duplicate labels removed\n",
      "\u001b[34m\u001b[1mtrain: \u001b[0mWARNING  C:\\Users\\Mohammad\\Desktop\\New folder (2)\\archive-6\\train-pure\\train-pure\\images\\train\\G0064556_jpg.rf.f44b0d9080d4dded71614f4e0f148303.jpg: 1 duplicate labels removed\n",
      "\u001b[34m\u001b[1mtrain: \u001b[0mWARNING  C:\\Users\\Mohammad\\Desktop\\New folder (2)\\archive-6\\train-pure\\train-pure\\images\\train\\G0064557_jpg.rf.ef9b75f63bd2c34271577354ea35fc47.jpg: 1 duplicate labels removed\n",
      "\u001b[34m\u001b[1mtrain: \u001b[0mWARNING  C:\\Users\\Mohammad\\Desktop\\New folder (2)\\archive-6\\train-pure\\train-pure\\images\\train\\G0064558_jpg.rf.7882ff01b5311ae0bb3b4b68eb78dd65.jpg: 1 duplicate labels removed\n",
      "\u001b[34m\u001b[1mtrain: \u001b[0mWARNING  C:\\Users\\Mohammad\\Desktop\\New folder (2)\\archive-6\\train-pure\\train-pure\\images\\train\\G0064559_jpg.rf.7c1c911447bceec7bfc10ab0228fa9ab.jpg: 4 duplicate labels removed\n",
      "\u001b[34m\u001b[1mtrain: \u001b[0mWARNING  C:\\Users\\Mohammad\\Desktop\\New folder (2)\\archive-6\\train-pure\\train-pure\\images\\train\\G0064560_jpg.rf.60e91e00f686e06180dca8c10ca7741c.jpg: 3 duplicate labels removed\n",
      "\u001b[34m\u001b[1mtrain: \u001b[0mWARNING  C:\\Users\\Mohammad\\Desktop\\New folder (2)\\archive-6\\train-pure\\train-pure\\images\\train\\G0064561_jpg.rf.b570dfbbd271fd16aa7ac10a9dbfade8.jpg: 3 duplicate labels removed\n",
      "\u001b[34m\u001b[1mtrain: \u001b[0mWARNING  C:\\Users\\Mohammad\\Desktop\\New folder (2)\\archive-6\\train-pure\\train-pure\\images\\train\\G0064562_jpg.rf.624f292c9fb31e5499398d2293e3ea78.jpg: 4 duplicate labels removed\n",
      "\u001b[34m\u001b[1mtrain: \u001b[0mWARNING  C:\\Users\\Mohammad\\Desktop\\New folder (2)\\archive-6\\train-pure\\train-pure\\images\\train\\G0064574_jpg.rf.17c18dcb175a77e132aac2faf93777ae.jpg: 3 duplicate labels removed\n",
      "\u001b[34m\u001b[1mtrain: \u001b[0mWARNING  C:\\Users\\Mohammad\\Desktop\\New folder (2)\\archive-6\\train-pure\\train-pure\\images\\train\\G0064575_jpg.rf.490ef8013124fef8ec55379377b1f7b1.jpg: 3 duplicate labels removed\n",
      "\u001b[34m\u001b[1mtrain: \u001b[0mWARNING  C:\\Users\\Mohammad\\Desktop\\New folder (2)\\archive-6\\train-pure\\train-pure\\images\\train\\G0064576_jpg.rf.11b0fca6a753c9cebaf9433845b75e13.jpg: 1 duplicate labels removed\n",
      "\u001b[34m\u001b[1mtrain: \u001b[0mWARNING  C:\\Users\\Mohammad\\Desktop\\New folder (2)\\archive-6\\train-pure\\train-pure\\images\\train\\G0064581_jpg.rf.249600564a6d66933983b2322444c613.jpg: 1 duplicate labels removed\n",
      "\u001b[34m\u001b[1mtrain: \u001b[0mWARNING  C:\\Users\\Mohammad\\Desktop\\New folder (2)\\archive-6\\train-pure\\train-pure\\images\\train\\G0064582_jpg.rf.24eb47ba7524fcf244426fc2aa9929ea.jpg: 2 duplicate labels removed\n",
      "\u001b[34m\u001b[1mtrain: \u001b[0mWARNING  C:\\Users\\Mohammad\\Desktop\\New folder (2)\\archive-6\\train-pure\\train-pure\\images\\train\\G0064611_jpg.rf.684ff160568d18b7d68d10efa059107e.jpg: 3 duplicate labels removed\n",
      "\u001b[34m\u001b[1mtrain: \u001b[0mWARNING  C:\\Users\\Mohammad\\Desktop\\New folder (2)\\archive-6\\train-pure\\train-pure\\images\\train\\G0064617_jpg.rf.b3a71e9e51754fe3dd1aec12cf130cc2.jpg: 1 duplicate labels removed\n",
      "\u001b[34m\u001b[1mtrain: \u001b[0mWARNING  C:\\Users\\Mohammad\\Desktop\\New folder (2)\\archive-6\\train-pure\\train-pure\\images\\train\\G0064621_jpg.rf.2a0cf206f44d25de94a35dd937ac08ca.jpg: 1 duplicate labels removed\n",
      "\u001b[34m\u001b[1mtrain: \u001b[0mWARNING  C:\\Users\\Mohammad\\Desktop\\New folder (2)\\archive-6\\train-pure\\train-pure\\images\\train\\G0064627_jpg.rf.fad132027753473c82d2e6a215566526.jpg: 2 duplicate labels removed\n",
      "\u001b[34m\u001b[1mtrain: \u001b[0mWARNING  C:\\Users\\Mohammad\\Desktop\\New folder (2)\\archive-6\\train-pure\\train-pure\\images\\train\\G0064628_jpg.rf.4ff11b780a7ecac1d10064e211fd4285.jpg: 1 duplicate labels removed\n",
      "\u001b[34m\u001b[1mtrain: \u001b[0mWARNING  C:\\Users\\Mohammad\\Desktop\\New folder (2)\\archive-6\\train-pure\\train-pure\\images\\train\\G0064631_jpg.rf.c83898e5d42a39234dbcf8695e569796.jpg: 1 duplicate labels removed\n",
      "\u001b[34m\u001b[1mtrain: \u001b[0mWARNING  C:\\Users\\Mohammad\\Desktop\\New folder (2)\\archive-6\\train-pure\\train-pure\\images\\train\\G0064710_jpg.rf.930fbd92fd867e9acbc2abc55c66fe79.jpg: 1 duplicate labels removed\n",
      "\u001b[34m\u001b[1mtrain: \u001b[0mWARNING  C:\\Users\\Mohammad\\Desktop\\New folder (2)\\archive-6\\train-pure\\train-pure\\images\\train\\G0064714_jpg.rf.cb9b739bf58f04c550546ad35fcfa447.jpg: 2 duplicate labels removed\n",
      "\u001b[34m\u001b[1mtrain: \u001b[0mWARNING  C:\\Users\\Mohammad\\Desktop\\New folder (2)\\archive-6\\train-pure\\train-pure\\images\\train\\G0064716_jpg.rf.8924eacd61181162fb5e53eee80d63e3.jpg: 1 duplicate labels removed\n",
      "\u001b[34m\u001b[1mtrain: \u001b[0mWARNING  C:\\Users\\Mohammad\\Desktop\\New folder (2)\\archive-6\\train-pure\\train-pure\\images\\train\\G0064717_jpg.rf.468c040e44f61fe30abc48f70857e30d.jpg: 1 duplicate labels removed\n",
      "\u001b[34m\u001b[1mtrain: \u001b[0mWARNING  C:\\Users\\Mohammad\\Desktop\\New folder (2)\\archive-6\\train-pure\\train-pure\\images\\train\\G0064723_jpg.rf.77c33ee16b82c5bd6e477a3d0916185f.jpg: 2 duplicate labels removed\n",
      "\u001b[34m\u001b[1mtrain: \u001b[0mWARNING  C:\\Users\\Mohammad\\Desktop\\New folder (2)\\archive-6\\train-pure\\train-pure\\images\\train\\G0064725_jpg.rf.359d9b566fc7bc09e6073bff2abeaefe.jpg: 2 duplicate labels removed\n",
      "\u001b[34m\u001b[1mtrain: \u001b[0mWARNING  C:\\Users\\Mohammad\\Desktop\\New folder (2)\\archive-6\\train-pure\\train-pure\\images\\train\\G0064738_jpg.rf.c8b3a646046612fbf44ac2544c5dbf52.jpg: 1 duplicate labels removed\n",
      "\u001b[34m\u001b[1mtrain: \u001b[0mWARNING  C:\\Users\\Mohammad\\Desktop\\New folder (2)\\archive-6\\train-pure\\train-pure\\images\\train\\G0064754_jpg.rf.aa63ae26b6c3eaab515bd04ba53c7725.jpg: 2 duplicate labels removed\n",
      "\u001b[34m\u001b[1mtrain: \u001b[0mWARNING  C:\\Users\\Mohammad\\Desktop\\New folder (2)\\archive-6\\train-pure\\train-pure\\images\\train\\G0064755_jpg.rf.2e15b82aa4df25a7b7a0cc2f2cda7e44.jpg: 1 duplicate labels removed\n",
      "\u001b[34m\u001b[1mtrain: \u001b[0mWARNING  C:\\Users\\Mohammad\\Desktop\\New folder (2)\\archive-6\\train-pure\\train-pure\\images\\train\\G0064780_jpg.rf.c37048c3379eec2da551455fa79b66f8.jpg: 2 duplicate labels removed\n",
      "\u001b[34m\u001b[1mtrain: \u001b[0mWARNING  C:\\Users\\Mohammad\\Desktop\\New folder (2)\\archive-6\\train-pure\\train-pure\\images\\train\\G0064784_jpg.rf.bb1af495ba9c3f9227cc064aff3af8a7.jpg: 1 duplicate labels removed\n",
      "\u001b[34m\u001b[1mtrain: \u001b[0mWARNING  C:\\Users\\Mohammad\\Desktop\\New folder (2)\\archive-6\\train-pure\\train-pure\\images\\train\\G0064795_jpg.rf.f5c03f39a9c3d3788acef40ec9479f97.jpg: 1 duplicate labels removed\n",
      "\u001b[34m\u001b[1mtrain: \u001b[0mWARNING  C:\\Users\\Mohammad\\Desktop\\New folder (2)\\archive-6\\train-pure\\train-pure\\images\\train\\G0064796_jpg.rf.71e633804a952269b4debb98bc8667e6.jpg: 1 duplicate labels removed\n",
      "\u001b[34m\u001b[1mtrain: \u001b[0mWARNING  C:\\Users\\Mohammad\\Desktop\\New folder (2)\\archive-6\\train-pure\\train-pure\\images\\train\\G0064797_jpg.rf.56ee3296433031555655718a123bc3a8.jpg: 1 duplicate labels removed\n",
      "\u001b[34m\u001b[1mtrain: \u001b[0mWARNING  C:\\Users\\Mohammad\\Desktop\\New folder (2)\\archive-6\\train-pure\\train-pure\\images\\train\\G0064805_jpg.rf.7284286e8c186844e3ff472aee5a2101.jpg: 1 duplicate labels removed\n",
      "\u001b[34m\u001b[1mtrain: \u001b[0mWARNING  C:\\Users\\Mohammad\\Desktop\\New folder (2)\\archive-6\\train-pure\\train-pure\\images\\train\\G0064807_jpg.rf.8e13a258e03cf60415ff19cc21aac715.jpg: 1 duplicate labels removed\n",
      "\u001b[34m\u001b[1mtrain: \u001b[0mWARNING  C:\\Users\\Mohammad\\Desktop\\New folder (2)\\archive-6\\train-pure\\train-pure\\images\\train\\G0064808_jpg.rf.f3c1de8e6e9881ad5ac60dc6a05c4fdd.jpg: 1 duplicate labels removed\n",
      "\u001b[34m\u001b[1mtrain: \u001b[0mWARNING  C:\\Users\\Mohammad\\Desktop\\New folder (2)\\archive-6\\train-pure\\train-pure\\images\\train\\G0064809_jpg.rf.a6023d811785cdff40118952221c399b.jpg: 1 duplicate labels removed\n",
      "\u001b[34m\u001b[1mtrain: \u001b[0mWARNING  C:\\Users\\Mohammad\\Desktop\\New folder (2)\\archive-6\\train-pure\\train-pure\\images\\train\\G0064811_jpg.rf.078a6afcb3a35b73d9caa9d98e741dfd.jpg: 1 duplicate labels removed\n",
      "\u001b[34m\u001b[1mtrain: \u001b[0mWARNING  C:\\Users\\Mohammad\\Desktop\\New folder (2)\\archive-6\\train-pure\\train-pure\\images\\train\\G0064822_jpg.rf.7e953aef9d7196ccb7cc03c0d047ba3d.jpg: 2 duplicate labels removed\n",
      "\u001b[34m\u001b[1mtrain: \u001b[0mWARNING  C:\\Users\\Mohammad\\Desktop\\New folder (2)\\archive-6\\train-pure\\train-pure\\images\\train\\G0064850_jpg.rf.39a326859a095f46a32677f905515e77.jpg: 2 duplicate labels removed\n",
      "\u001b[34m\u001b[1mtrain: \u001b[0mWARNING  C:\\Users\\Mohammad\\Desktop\\New folder (2)\\archive-6\\train-pure\\train-pure\\images\\train\\G0064859_jpg.rf.3514e2057b3ba2ef58b1f3ecb18a13dd.jpg: 1 duplicate labels removed\n",
      "\u001b[34m\u001b[1mtrain: \u001b[0mWARNING  C:\\Users\\Mohammad\\Desktop\\New folder (2)\\archive-6\\train-pure\\train-pure\\images\\train\\G0064860_jpg.rf.7af20420750318f8f172b0cf2e0d9e8c.jpg: 1 duplicate labels removed\n",
      "\u001b[34m\u001b[1mtrain: \u001b[0mWARNING  C:\\Users\\Mohammad\\Desktop\\New folder (2)\\archive-6\\train-pure\\train-pure\\images\\train\\G0064861_jpg.rf.2b0255b62cd534e8d2f3ba2311fd604d.jpg: 1 duplicate labels removed\n",
      "\u001b[34m\u001b[1mtrain: \u001b[0mWARNING  C:\\Users\\Mohammad\\Desktop\\New folder (2)\\archive-6\\train-pure\\train-pure\\images\\train\\G0064865_jpg.rf.d84d5a0df6058d1876d3f442ad92a648.jpg: 1 duplicate labels removed\n",
      "\u001b[34m\u001b[1mtrain: \u001b[0mWARNING  C:\\Users\\Mohammad\\Desktop\\New folder (2)\\archive-6\\train-pure\\train-pure\\images\\train\\G0064866_jpg.rf.78cd9481a59f29ed4cba18438d69b240.jpg: 3 duplicate labels removed\n",
      "\u001b[34m\u001b[1mtrain: \u001b[0mWARNING  C:\\Users\\Mohammad\\Desktop\\New folder (2)\\archive-6\\train-pure\\train-pure\\images\\train\\G0064867_jpg.rf.b26e0b71f90f2f077545b3ede6e99536.jpg: 5 duplicate labels removed\n",
      "\u001b[34m\u001b[1mtrain: \u001b[0mWARNING  C:\\Users\\Mohammad\\Desktop\\New folder (2)\\archive-6\\train-pure\\train-pure\\images\\train\\G0064868_jpg.rf.7d33110f4160ba5ca38a47b477338ec2.jpg: 3 duplicate labels removed\n",
      "\u001b[34m\u001b[1mtrain: \u001b[0mWARNING  C:\\Users\\Mohammad\\Desktop\\New folder (2)\\archive-6\\train-pure\\train-pure\\images\\train\\G0307782_jpg.rf.6bc08b253a048a397cb95c7e0da86e6e.jpg: 2 duplicate labels removed\n",
      "\u001b[34m\u001b[1mtrain: \u001b[0mWARNING  C:\\Users\\Mohammad\\Desktop\\New folder (2)\\archive-6\\train-pure\\train-pure\\images\\train\\G0459768_jpg.rf.73dea1b9026ec7e618582ca91aae7020.jpg: 2 duplicate labels removed\n",
      "\u001b[34m\u001b[1mval: \u001b[0mScanning C:\\Users\\Mohammad\\Desktop\\New folder (2)\\archive-6\\valid\\valid\\labels.cache... 871 images, 0 backgrounds,\u001b[0m\n",
      "Plotting labels to runs\\detect\\yolov8_road_pavement10\\labels.jpg... \n",
      "\u001b[34m\u001b[1moptimizer:\u001b[0m 'optimizer=auto' found, ignoring 'lr0=0.01' and 'momentum=0.937' and determining best 'optimizer', 'lr0' and 'momentum' automatically... \n",
      "\u001b[34m\u001b[1moptimizer:\u001b[0m AdamW(lr=0.002, momentum=0.9) with parameter groups 57 weight(decay=0.0), 64 weight(decay=0.0005), 63 bias(decay=0.0)\n",
      "Image sizes 640 train, 640 val\n",
      "Using 8 dataloader workers\n",
      "Logging results to \u001b[1mruns\\detect\\yolov8_road_pavement10\u001b[0m\n",
      "Starting training for 100 epochs...\n",
      "\n",
      "      Epoch    GPU_mem   box_loss   cls_loss   dfl_loss  Instances       Size\n",
      "      1/100      4.16G      2.234      3.196      1.696          1        640: 100%|██████████| 299/299 [01:26<00:00,  \n",
      "                 Class     Images  Instances      Box(P          R      mAP50  mAP50-95): 100%|██████████| 28/28 [00:12\n",
      "                   all        871       1394      0.231      0.267      0.151     0.0532\n",
      "\n",
      "      Epoch    GPU_mem   box_loss   cls_loss   dfl_loss  Instances       Size\n",
      "      2/100      4.11G      2.289      2.442      1.775          7        640: 100%|██████████| 299/299 [01:19<00:00,  \n",
      "                 Class     Images  Instances      Box(P          R      mAP50  mAP50-95): 100%|██████████| 28/28 [00:11\n",
      "                   all        871       1394       0.35      0.278      0.213      0.068\n",
      "\n",
      "      Epoch    GPU_mem   box_loss   cls_loss   dfl_loss  Instances       Size\n",
      "      3/100      4.24G      2.283      2.411      1.744          3        640: 100%|██████████| 299/299 [01:17<00:00,  \n",
      "                 Class     Images  Instances      Box(P          R      mAP50  mAP50-95): 100%|██████████| 28/28 [00:11\n",
      "                   all        871       1394      0.438      0.332      0.302      0.113\n",
      "\n",
      "      Epoch    GPU_mem   box_loss   cls_loss   dfl_loss  Instances       Size\n",
      "      4/100      4.27G      2.258      2.325       1.72          3        640: 100%|██████████| 299/299 [01:16<00:00,  \n",
      "                 Class     Images  Instances      Box(P          R      mAP50  mAP50-95): 100%|██████████| 28/28 [00:11\n",
      "                   all        871       1394      0.424      0.335      0.296      0.111\n",
      "\n",
      "      Epoch    GPU_mem   box_loss   cls_loss   dfl_loss  Instances       Size\n",
      "      5/100      4.25G      2.194      2.261      1.685          2        640: 100%|██████████| 299/299 [01:16<00:00,  \n",
      "                 Class     Images  Instances      Box(P          R      mAP50  mAP50-95): 100%|██████████| 28/28 [00:11\n",
      "                   all        871       1394      0.371      0.385      0.281      0.106\n",
      "\n",
      "      Epoch    GPU_mem   box_loss   cls_loss   dfl_loss  Instances       Size\n",
      "      6/100      4.27G      2.138      2.161       1.64          1        640: 100%|██████████| 299/299 [01:16<00:00,  \n",
      "                 Class     Images  Instances      Box(P          R      mAP50  mAP50-95): 100%|██████████| 28/28 [00:10\n",
      "                   all        871       1394      0.365      0.349      0.259     0.0905\n",
      "\n",
      "      Epoch    GPU_mem   box_loss   cls_loss   dfl_loss  Instances       Size\n",
      "      7/100      4.09G       2.11      2.104      1.618          4        640: 100%|██████████| 299/299 [01:16<00:00,  \n",
      "                 Class     Images  Instances      Box(P          R      mAP50  mAP50-95): 100%|██████████| 28/28 [00:10\n",
      "                   all        871       1394       0.41      0.343      0.295      0.105\n",
      "\n",
      "      Epoch    GPU_mem   box_loss   cls_loss   dfl_loss  Instances       Size\n",
      "      8/100       4.1G      2.085      2.043      1.591          2        640: 100%|██████████| 299/299 [01:06<00:00,  \n",
      "                 Class     Images  Instances      Box(P          R      mAP50  mAP50-95): 100%|██████████| 28/28 [00:10\n",
      "                   all        871       1394      0.469      0.405      0.365      0.141\n",
      "\n",
      "      Epoch    GPU_mem   box_loss   cls_loss   dfl_loss  Instances       Size\n",
      "      9/100      4.25G      2.025      1.984      1.551          1        640: 100%|██████████| 299/299 [01:06<00:00,  \n",
      "                 Class     Images  Instances      Box(P          R      mAP50  mAP50-95): 100%|██████████| 28/28 [00:10\n",
      "                   all        871       1394      0.467      0.392      0.383      0.156\n",
      "\n",
      "      Epoch    GPU_mem   box_loss   cls_loss   dfl_loss  Instances       Size\n",
      "     10/100      4.26G      2.034      1.934       1.55          1        640: 100%|██████████| 299/299 [01:07<00:00,  \n",
      "                 Class     Images  Instances      Box(P          R      mAP50  mAP50-95): 100%|██████████| 28/28 [00:10\n",
      "                   all        871       1394      0.452      0.407      0.367      0.146\n",
      "\n",
      "      Epoch    GPU_mem   box_loss   cls_loss   dfl_loss  Instances       Size\n",
      "     11/100      4.09G      2.006      1.938      1.553          1        640: 100%|██████████| 299/299 [01:06<00:00,  \n",
      "                 Class     Images  Instances      Box(P          R      mAP50  mAP50-95): 100%|██████████| 28/28 [00:10\n",
      "                   all        871       1394      0.498      0.442      0.417      0.164\n",
      "\n",
      "      Epoch    GPU_mem   box_loss   cls_loss   dfl_loss  Instances       Size\n",
      "     12/100       4.1G      1.981      1.873      1.518          4        640: 100%|██████████| 299/299 [01:06<00:00,  \n",
      "                 Class     Images  Instances      Box(P          R      mAP50  mAP50-95): 100%|██████████| 28/28 [00:10\n",
      "                   all        871       1394      0.476      0.421      0.392      0.151\n",
      "\n",
      "      Epoch    GPU_mem   box_loss   cls_loss   dfl_loss  Instances       Size\n",
      "     13/100      4.09G      1.999      1.872       1.51          2        640: 100%|██████████| 299/299 [01:06<00:00,  \n",
      "                 Class     Images  Instances      Box(P          R      mAP50  mAP50-95): 100%|██████████| 28/28 [00:10\n",
      "                   all        871       1394      0.506      0.427      0.432       0.19\n",
      "\n",
      "      Epoch    GPU_mem   box_loss   cls_loss   dfl_loss  Instances       Size\n",
      "     14/100       4.1G      1.965      1.827      1.503          2        640: 100%|██████████| 299/299 [01:07<00:00,  \n",
      "                 Class     Images  Instances      Box(P          R      mAP50  mAP50-95): 100%|██████████| 28/28 [00:10\n",
      "                   all        871       1394      0.393       0.42      0.316      0.115\n",
      "\n",
      "      Epoch    GPU_mem   box_loss   cls_loss   dfl_loss  Instances       Size\n",
      "     15/100      4.08G      1.974      1.832      1.503          4        640: 100%|██████████| 299/299 [01:06<00:00,  \n",
      "                 Class     Images  Instances      Box(P          R      mAP50  mAP50-95): 100%|██████████| 28/28 [00:10\n",
      "                   all        871       1394       0.53      0.423      0.409      0.169\n",
      "\n",
      "      Epoch    GPU_mem   box_loss   cls_loss   dfl_loss  Instances       Size\n",
      "     16/100       4.1G      1.957      1.824      1.514          1        640: 100%|██████████| 299/299 [01:06<00:00,  \n",
      "                 Class     Images  Instances      Box(P          R      mAP50  mAP50-95): 100%|██████████| 28/28 [00:10\n",
      "                   all        871       1394      0.497      0.453      0.412      0.175\n",
      "\n",
      "      Epoch    GPU_mem   box_loss   cls_loss   dfl_loss  Instances       Size\n",
      "     17/100      4.25G      1.936      1.769      1.478          2        640: 100%|██████████| 299/299 [01:06<00:00,  \n",
      "                 Class     Images  Instances      Box(P          R      mAP50  mAP50-95): 100%|██████████| 28/28 [00:10\n",
      "                   all        871       1394      0.504      0.448      0.423      0.149\n",
      "\n",
      "      Epoch    GPU_mem   box_loss   cls_loss   dfl_loss  Instances       Size\n",
      "     18/100       4.1G      1.927      1.766      1.483          3        640: 100%|██████████| 299/299 [01:07<00:00,  \n",
      "                 Class     Images  Instances      Box(P          R      mAP50  mAP50-95): 100%|██████████| 28/28 [00:10\n",
      "                   all        871       1394      0.525      0.455      0.454      0.187\n",
      "\n",
      "      Epoch    GPU_mem   box_loss   cls_loss   dfl_loss  Instances       Size\n",
      "     19/100      4.09G      1.912      1.756      1.487          0        640: 100%|██████████| 299/299 [01:07<00:00,  \n",
      "                 Class     Images  Instances      Box(P          R      mAP50  mAP50-95): 100%|██████████| 28/28 [00:10\n",
      "                   all        871       1394      0.557      0.451      0.468      0.188\n",
      "\n",
      "      Epoch    GPU_mem   box_loss   cls_loss   dfl_loss  Instances       Size\n",
      "     20/100      4.26G      1.916      1.715      1.472          3        640: 100%|██████████| 299/299 [01:06<00:00,  \n",
      "                 Class     Images  Instances      Box(P          R      mAP50  mAP50-95): 100%|██████████| 28/28 [00:10\n",
      "                   all        871       1394      0.568       0.46      0.465        0.2\n",
      "\n",
      "      Epoch    GPU_mem   box_loss   cls_loss   dfl_loss  Instances       Size\n",
      "     21/100      4.25G       1.89      1.698      1.461          3        640: 100%|██████████| 299/299 [01:06<00:00,  \n",
      "                 Class     Images  Instances      Box(P          R      mAP50  mAP50-95): 100%|██████████| 28/28 [00:10\n",
      "                   all        871       1394      0.554       0.47      0.486      0.184\n",
      "\n",
      "      Epoch    GPU_mem   box_loss   cls_loss   dfl_loss  Instances       Size\n",
      "     22/100       4.1G      1.905      1.725      1.466          1        640: 100%|██████████| 299/299 [01:06<00:00,  \n",
      "                 Class     Images  Instances      Box(P          R      mAP50  mAP50-95): 100%|██████████| 28/28 [00:10\n",
      "                   all        871       1394       0.55      0.476      0.478      0.199\n",
      "\n",
      "      Epoch    GPU_mem   box_loss   cls_loss   dfl_loss  Instances       Size\n",
      "     23/100      4.09G      1.887      1.686      1.444          2        640: 100%|██████████| 299/299 [01:07<00:00,  \n",
      "                 Class     Images  Instances      Box(P          R      mAP50  mAP50-95): 100%|██████████| 28/28 [00:10\n",
      "                   all        871       1394      0.538      0.458       0.45      0.192\n",
      "\n",
      "      Epoch    GPU_mem   box_loss   cls_loss   dfl_loss  Instances       Size\n",
      "     24/100      4.26G      1.878      1.685      1.442          0        640: 100%|██████████| 299/299 [01:07<00:00,  \n",
      "                 Class     Images  Instances      Box(P          R      mAP50  mAP50-95): 100%|██████████| 28/28 [00:10\n",
      "                   all        871       1394      0.568      0.473      0.483      0.206\n",
      "\n",
      "      Epoch    GPU_mem   box_loss   cls_loss   dfl_loss  Instances       Size\n",
      "     25/100      4.25G      1.848      1.639      1.417          0        640: 100%|██████████| 299/299 [01:06<00:00,  \n",
      "                 Class     Images  Instances      Box(P          R      mAP50  mAP50-95): 100%|██████████| 28/28 [00:10\n",
      "                   all        871       1394      0.605      0.476      0.506      0.218\n",
      "\n",
      "      Epoch    GPU_mem   box_loss   cls_loss   dfl_loss  Instances       Size\n",
      "     26/100       4.1G      1.863      1.623      1.421          2        640: 100%|██████████| 299/299 [01:03<00:00,  \n",
      "                 Class     Images  Instances      Box(P          R      mAP50  mAP50-95): 100%|██████████| 28/28 [00:07\n",
      "                   all        871       1394      0.554       0.52      0.497      0.219\n",
      "\n",
      "      Epoch    GPU_mem   box_loss   cls_loss   dfl_loss  Instances       Size\n",
      "     27/100      4.08G       1.86      1.633      1.435          1        640: 100%|██████████| 299/299 [00:58<00:00,  \n",
      "                 Class     Images  Instances      Box(P          R      mAP50  mAP50-95): 100%|██████████| 28/28 [00:07\n",
      "                   all        871       1394      0.556      0.477      0.485      0.194\n",
      "\n",
      "      Epoch    GPU_mem   box_loss   cls_loss   dfl_loss  Instances       Size\n",
      "     28/100       4.1G       1.85      1.624      1.418          0        640: 100%|██████████| 299/299 [00:59<00:00,  \n",
      "                 Class     Images  Instances      Box(P          R      mAP50  mAP50-95): 100%|██████████| 28/28 [00:07\n",
      "                   all        871       1394      0.584      0.514      0.518      0.217\n",
      "\n",
      "      Epoch    GPU_mem   box_loss   cls_loss   dfl_loss  Instances       Size\n",
      "     29/100      4.09G      1.836      1.582      1.419          1        640: 100%|██████████| 299/299 [00:59<00:00,  \n",
      "                 Class     Images  Instances      Box(P          R      mAP50  mAP50-95): 100%|██████████| 28/28 [00:07\n",
      "                   all        871       1394      0.559      0.492      0.484      0.208\n",
      "\n",
      "      Epoch    GPU_mem   box_loss   cls_loss   dfl_loss  Instances       Size\n",
      "     30/100       4.1G      1.833      1.578      1.408          5        640: 100%|██████████| 299/299 [00:58<00:00,  \n",
      "                 Class     Images  Instances      Box(P          R      mAP50  mAP50-95): 100%|██████████| 28/28 [00:07\n",
      "                   all        871       1394      0.602      0.503      0.518      0.224\n",
      "\n",
      "      Epoch    GPU_mem   box_loss   cls_loss   dfl_loss  Instances       Size\n",
      "     31/100      4.09G      1.822      1.558      1.402          6        640: 100%|██████████| 299/299 [00:58<00:00,  \n",
      "                 Class     Images  Instances      Box(P          R      mAP50  mAP50-95): 100%|██████████| 28/28 [00:07\n",
      "                   all        871       1394      0.534       0.53      0.504      0.215\n",
      "\n",
      "      Epoch    GPU_mem   box_loss   cls_loss   dfl_loss  Instances       Size\n",
      "     32/100      4.26G      1.822      1.566      1.408          0        640: 100%|██████████| 299/299 [00:58<00:00,  \n",
      "                 Class     Images  Instances      Box(P          R      mAP50  mAP50-95): 100%|██████████| 28/28 [00:07\n",
      "                   all        871       1394      0.618      0.503      0.527      0.218\n",
      "\n",
      "      Epoch    GPU_mem   box_loss   cls_loss   dfl_loss  Instances       Size\n",
      "     33/100      4.09G      1.811      1.539      1.407          5        640: 100%|██████████| 299/299 [00:59<00:00,  \n",
      "                 Class     Images  Instances      Box(P          R      mAP50  mAP50-95): 100%|██████████| 28/28 [00:07\n",
      "                   all        871       1394      0.586       0.47      0.505      0.215\n",
      "\n",
      "      Epoch    GPU_mem   box_loss   cls_loss   dfl_loss  Instances       Size\n",
      "     34/100       4.1G      1.797       1.53      1.382          1        640: 100%|██████████| 299/299 [01:09<00:00,  \n",
      "                 Class     Images  Instances      Box(P          R      mAP50  mAP50-95): 100%|██████████| 28/28 [00:09\n",
      "                   all        871       1394      0.577      0.539      0.544      0.233\n",
      "\n",
      "      Epoch    GPU_mem   box_loss   cls_loss   dfl_loss  Instances       Size\n",
      "     35/100      4.09G      1.803      1.535      1.395          2        640: 100%|██████████| 299/299 [01:10<00:00,  \n",
      "                 Class     Images  Instances      Box(P          R      mAP50  mAP50-95): 100%|██████████| 28/28 [00:08\n",
      "                   all        871       1394      0.606      0.506      0.545       0.24\n",
      "\n",
      "      Epoch    GPU_mem   box_loss   cls_loss   dfl_loss  Instances       Size\n",
      "     36/100      4.26G      1.787      1.491      1.397          1        640: 100%|██████████| 299/299 [01:11<00:00,  \n",
      "                 Class     Images  Instances      Box(P          R      mAP50  mAP50-95): 100%|██████████| 28/28 [00:08\n",
      "                   all        871       1394       0.59      0.486      0.505       0.22\n",
      "\n",
      "      Epoch    GPU_mem   box_loss   cls_loss   dfl_loss  Instances       Size\n",
      "     37/100      4.25G      1.763      1.474       1.36          1        640: 100%|██████████| 299/299 [01:10<00:00,  \n",
      "                 Class     Images  Instances      Box(P          R      mAP50  mAP50-95): 100%|██████████| 28/28 [00:08\n",
      "                   all        871       1394       0.63      0.511      0.552      0.237\n",
      "\n",
      "      Epoch    GPU_mem   box_loss   cls_loss   dfl_loss  Instances       Size\n",
      "     38/100       4.1G      1.778      1.509      1.391          2        640: 100%|██████████| 299/299 [01:10<00:00,  \n",
      "                 Class     Images  Instances      Box(P          R      mAP50  mAP50-95): 100%|██████████| 28/28 [00:08\n",
      "                   all        871       1394      0.635      0.506      0.558      0.238\n",
      "\n",
      "      Epoch    GPU_mem   box_loss   cls_loss   dfl_loss  Instances       Size\n",
      "     39/100      4.09G       1.78      1.459      1.372          1        640: 100%|██████████| 299/299 [01:10<00:00,  \n",
      "                 Class     Images  Instances      Box(P          R      mAP50  mAP50-95): 100%|██████████| 28/28 [00:08\n",
      "                   all        871       1394      0.596      0.521      0.546      0.244\n",
      "\n",
      "      Epoch    GPU_mem   box_loss   cls_loss   dfl_loss  Instances       Size\n",
      "     40/100       4.1G       1.75      1.436      1.369          1        640: 100%|██████████| 299/299 [01:11<00:00,  \n",
      "                 Class     Images  Instances      Box(P          R      mAP50  mAP50-95): 100%|██████████| 28/28 [00:08\n",
      "                   all        871       1394      0.601      0.503      0.535      0.221\n",
      "\n",
      "      Epoch    GPU_mem   box_loss   cls_loss   dfl_loss  Instances       Size\n",
      "     41/100      4.09G      1.739      1.436      1.362          0        640: 100%|██████████| 299/299 [01:10<00:00,  \n",
      "                 Class     Images  Instances      Box(P          R      mAP50  mAP50-95): 100%|██████████| 28/28 [00:08\n",
      "                   all        871       1394      0.634      0.478      0.537      0.239\n",
      "\n",
      "      Epoch    GPU_mem   box_loss   cls_loss   dfl_loss  Instances       Size\n",
      "     42/100      4.26G       1.76      1.442      1.364          1        640: 100%|██████████| 299/299 [01:10<00:00,  \n",
      "                 Class     Images  Instances      Box(P          R      mAP50  mAP50-95): 100%|██████████| 28/28 [00:08\n",
      "                   all        871       1394      0.627      0.466      0.533      0.225\n",
      "\n",
      "      Epoch    GPU_mem   box_loss   cls_loss   dfl_loss  Instances       Size\n",
      "     43/100      4.25G      1.751      1.427      1.364         17        640: 100%|██████████| 299/299 [01:10<00:00,  \n",
      "                 Class     Images  Instances      Box(P          R      mAP50  mAP50-95): 100%|██████████| 28/28 [00:08\n",
      "                   all        871       1394      0.643      0.513      0.557      0.236\n",
      "\n",
      "      Epoch    GPU_mem   box_loss   cls_loss   dfl_loss  Instances       Size\n",
      "     44/100      4.26G       1.74        1.4      1.354         11        640: 100%|██████████| 299/299 [01:10<00:00,  \n",
      "                 Class     Images  Instances      Box(P          R      mAP50  mAP50-95): 100%|██████████| 28/28 [00:08\n",
      "                   all        871       1394       0.62      0.545      0.588      0.254\n",
      "\n",
      "      Epoch    GPU_mem   box_loss   cls_loss   dfl_loss  Instances       Size\n",
      "     45/100      4.25G      1.727      1.415      1.363          1        640: 100%|██████████| 299/299 [01:10<00:00,  \n",
      "                 Class     Images  Instances      Box(P          R      mAP50  mAP50-95): 100%|██████████| 28/28 [00:08\n",
      "                   all        871       1394      0.637      0.503      0.541      0.238\n",
      "\n",
      "      Epoch    GPU_mem   box_loss   cls_loss   dfl_loss  Instances       Size\n",
      "     46/100       4.1G      1.728      1.411      1.344          1        640: 100%|██████████| 299/299 [01:10<00:00,  \n",
      "                 Class     Images  Instances      Box(P          R      mAP50  mAP50-95): 100%|██████████| 28/28 [00:08\n",
      "                   all        871       1394      0.586      0.548      0.566      0.252\n",
      "\n",
      "      Epoch    GPU_mem   box_loss   cls_loss   dfl_loss  Instances       Size\n",
      "     47/100      4.24G      1.707      1.392      1.336          0        640: 100%|██████████| 299/299 [01:11<00:00,  \n",
      "                 Class     Images  Instances      Box(P          R      mAP50  mAP50-95): 100%|██████████| 28/28 [00:08\n",
      "                   all        871       1394      0.607      0.555      0.567      0.247\n",
      "\n",
      "      Epoch    GPU_mem   box_loss   cls_loss   dfl_loss  Instances       Size\n",
      "     48/100       4.1G      1.716      1.361      1.338          2        640: 100%|██████████| 299/299 [01:10<00:00,  \n",
      "                 Class     Images  Instances      Box(P          R      mAP50  mAP50-95): 100%|██████████| 28/28 [00:08\n",
      "                   all        871       1394      0.629      0.542      0.579      0.253\n",
      "\n",
      "      Epoch    GPU_mem   box_loss   cls_loss   dfl_loss  Instances       Size\n",
      "     49/100      4.09G      1.717      1.354      1.332          5        640: 100%|██████████| 299/299 [01:10<00:00,  \n",
      "                 Class     Images  Instances      Box(P          R      mAP50  mAP50-95): 100%|██████████| 28/28 [00:08\n",
      "                   all        871       1394      0.605      0.559      0.575      0.244\n",
      "\n",
      "      Epoch    GPU_mem   box_loss   cls_loss   dfl_loss  Instances       Size\n",
      "     50/100       4.1G      1.683      1.349      1.324          0        640: 100%|██████████| 299/299 [01:10<00:00,  \n",
      "                 Class     Images  Instances      Box(P          R      mAP50  mAP50-95): 100%|██████████| 28/28 [00:08\n",
      "                   all        871       1394      0.576      0.549      0.561      0.251\n",
      "\n",
      "      Epoch    GPU_mem   box_loss   cls_loss   dfl_loss  Instances       Size\n",
      "     51/100      4.08G      1.692      1.334      1.312          4        640: 100%|██████████| 299/299 [01:11<00:00,  \n",
      "                 Class     Images  Instances      Box(P          R      mAP50  mAP50-95): 100%|██████████| 28/28 [00:08\n",
      "                   all        871       1394      0.641      0.544      0.591      0.256\n",
      "\n",
      "      Epoch    GPU_mem   box_loss   cls_loss   dfl_loss  Instances       Size\n",
      "     52/100       4.1G      1.687       1.33      1.323          3        640: 100%|██████████| 299/299 [01:13<00:00,  \n",
      "                 Class     Images  Instances      Box(P          R      mAP50  mAP50-95): 100%|██████████| 28/28 [00:09\n",
      "                   all        871       1394      0.623      0.518      0.575      0.244\n",
      "\n",
      "      Epoch    GPU_mem   box_loss   cls_loss   dfl_loss  Instances       Size\n",
      "     53/100      4.09G       1.67      1.307      1.317          1        640: 100%|██████████| 299/299 [01:15<00:00,  \n",
      "                 Class     Images  Instances      Box(P          R      mAP50  mAP50-95): 100%|██████████| 28/28 [00:08\n",
      "                   all        871       1394      0.602      0.546      0.557       0.24\n",
      "\n",
      "      Epoch    GPU_mem   box_loss   cls_loss   dfl_loss  Instances       Size\n",
      "     54/100       4.1G      1.671      1.318      1.313          2        640: 100%|██████████| 299/299 [01:15<00:00,  \n",
      "                 Class     Images  Instances      Box(P          R      mAP50  mAP50-95): 100%|██████████| 28/28 [00:08\n",
      "                   all        871       1394      0.607       0.56      0.589      0.253\n",
      "\n",
      "      Epoch    GPU_mem   box_loss   cls_loss   dfl_loss  Instances       Size\n",
      "     55/100      4.08G      1.663      1.285      1.309          1        640: 100%|██████████| 299/299 [01:15<00:00,  \n",
      "                 Class     Images  Instances      Box(P          R      mAP50  mAP50-95): 100%|██████████| 28/28 [00:09\n",
      "                   all        871       1394      0.628      0.552      0.587       0.26\n",
      "\n",
      "      Epoch    GPU_mem   box_loss   cls_loss   dfl_loss  Instances       Size\n",
      "     56/100       4.1G      1.637      1.268      1.294          3        640: 100%|██████████| 299/299 [01:10<00:00,  \n",
      "                 Class     Images  Instances      Box(P          R      mAP50  mAP50-95): 100%|██████████| 28/28 [00:07\n",
      "                   all        871       1394      0.635      0.533      0.564      0.249\n",
      "\n",
      "      Epoch    GPU_mem   box_loss   cls_loss   dfl_loss  Instances       Size\n",
      "     57/100      4.09G      1.656      1.271      1.305          5        640: 100%|██████████| 299/299 [00:59<00:00,  \n",
      "                 Class     Images  Instances      Box(P          R      mAP50  mAP50-95): 100%|██████████| 28/28 [00:07\n",
      "                   all        871       1394      0.637      0.557      0.592      0.262\n",
      "\n",
      "      Epoch    GPU_mem   box_loss   cls_loss   dfl_loss  Instances       Size\n",
      "     58/100       4.1G      1.632      1.247      1.294          6        640: 100%|██████████| 299/299 [00:59<00:00,  \n",
      "                 Class     Images  Instances      Box(P          R      mAP50  mAP50-95): 100%|██████████| 28/28 [00:07\n",
      "                   all        871       1394      0.631      0.544      0.586      0.256\n",
      "\n",
      "      Epoch    GPU_mem   box_loss   cls_loss   dfl_loss  Instances       Size\n",
      "     59/100      4.09G      1.629      1.235      1.281          4        640: 100%|██████████| 299/299 [00:58<00:00,  \n",
      "                 Class     Images  Instances      Box(P          R      mAP50  mAP50-95): 100%|██████████| 28/28 [00:07\n",
      "                   all        871       1394      0.577      0.578      0.563      0.241\n",
      "\n",
      "      Epoch    GPU_mem   box_loss   cls_loss   dfl_loss  Instances       Size\n",
      "     60/100       4.1G      1.621      1.255      1.285          3        640: 100%|██████████| 299/299 [00:59<00:00,  \n",
      "                 Class     Images  Instances      Box(P          R      mAP50  mAP50-95): 100%|██████████| 28/28 [00:07\n",
      "                   all        871       1394      0.651      0.555      0.599      0.258\n",
      "\n",
      "      Epoch    GPU_mem   box_loss   cls_loss   dfl_loss  Instances       Size\n",
      "     61/100      4.09G      1.626      1.243       1.29          4        640: 100%|██████████| 299/299 [00:59<00:00,  \n",
      "                 Class     Images  Instances      Box(P          R      mAP50  mAP50-95): 100%|██████████| 28/28 [00:07\n",
      "                   all        871       1394      0.653      0.527      0.584      0.259\n",
      "\n",
      "      Epoch    GPU_mem   box_loss   cls_loss   dfl_loss  Instances       Size\n",
      "     62/100       4.1G      1.608      1.223       1.28          0        640: 100%|██████████| 299/299 [00:59<00:00,  \n",
      "                 Class     Images  Instances      Box(P          R      mAP50  mAP50-95): 100%|██████████| 28/28 [00:07\n",
      "                   all        871       1394      0.646      0.559      0.594      0.264\n",
      "\n",
      "      Epoch    GPU_mem   box_loss   cls_loss   dfl_loss  Instances       Size\n",
      "     63/100      4.09G      1.635      1.241      1.287          2        640: 100%|██████████| 299/299 [00:59<00:00,  \n",
      "                 Class     Images  Instances      Box(P          R      mAP50  mAP50-95): 100%|██████████| 28/28 [00:07\n",
      "                   all        871       1394      0.637      0.553      0.583      0.254\n",
      "\n",
      "      Epoch    GPU_mem   box_loss   cls_loss   dfl_loss  Instances       Size\n",
      "     64/100       4.1G      1.597      1.207      1.263          2        640: 100%|██████████| 299/299 [00:59<00:00,  \n",
      "                 Class     Images  Instances      Box(P          R      mAP50  mAP50-95): 100%|██████████| 28/28 [00:07\n",
      "                   all        871       1394      0.656      0.547       0.59      0.258\n",
      "\n",
      "      Epoch    GPU_mem   box_loss   cls_loss   dfl_loss  Instances       Size\n",
      "     65/100      4.09G      1.607      1.214      1.261          0        640: 100%|██████████| 299/299 [00:58<00:00,  \n",
      "                 Class     Images  Instances      Box(P          R      mAP50  mAP50-95): 100%|██████████| 28/28 [00:07\n",
      "                   all        871       1394      0.642      0.561      0.595      0.253\n",
      "\n",
      "      Epoch    GPU_mem   box_loss   cls_loss   dfl_loss  Instances       Size\n",
      "     66/100       4.1G      1.582      1.171      1.259          4        640: 100%|██████████| 299/299 [00:59<00:00,  \n",
      "                 Class     Images  Instances      Box(P          R      mAP50  mAP50-95): 100%|██████████| 28/28 [00:07\n",
      "                   all        871       1394      0.646      0.561      0.601      0.261\n",
      "\n",
      "      Epoch    GPU_mem   box_loss   cls_loss   dfl_loss  Instances       Size\n",
      "     67/100      4.09G      1.564      1.157      1.258          2        640: 100%|██████████| 299/299 [00:59<00:00,  \n",
      "                 Class     Images  Instances      Box(P          R      mAP50  mAP50-95): 100%|██████████| 28/28 [00:07\n",
      "                   all        871       1394      0.658      0.574      0.603      0.256\n",
      "\n",
      "      Epoch    GPU_mem   box_loss   cls_loss   dfl_loss  Instances       Size\n",
      "     68/100       4.1G      1.582      1.167      1.262          1        640: 100%|██████████| 299/299 [00:59<00:00,  \n",
      "                 Class     Images  Instances      Box(P          R      mAP50  mAP50-95): 100%|██████████| 28/28 [00:07\n",
      "                   all        871       1394      0.653      0.542      0.583      0.255\n",
      "\n",
      "      Epoch    GPU_mem   box_loss   cls_loss   dfl_loss  Instances       Size\n",
      "     69/100      4.09G      1.574      1.158      1.256          4        640: 100%|██████████| 299/299 [00:58<00:00,  \n",
      "                 Class     Images  Instances      Box(P          R      mAP50  mAP50-95): 100%|██████████| 28/28 [00:07\n",
      "                   all        871       1394       0.65      0.563      0.603       0.26\n",
      "\n",
      "      Epoch    GPU_mem   box_loss   cls_loss   dfl_loss  Instances       Size\n",
      "     70/100      4.09G       1.57      1.133       1.25          1        640: 100%|██████████| 299/299 [00:58<00:00,  \n",
      "                 Class     Images  Instances      Box(P          R      mAP50  mAP50-95): 100%|██████████| 28/28 [00:07\n",
      "                   all        871       1394      0.657      0.562       0.59      0.256\n",
      "\n",
      "      Epoch    GPU_mem   box_loss   cls_loss   dfl_loss  Instances       Size\n",
      "     71/100      4.08G      1.559      1.128      1.244          6        640: 100%|██████████| 299/299 [00:58<00:00,  \n",
      "                 Class     Images  Instances      Box(P          R      mAP50  mAP50-95): 100%|██████████| 28/28 [00:07\n",
      "                   all        871       1394      0.636      0.566       0.59       0.26\n",
      "\n",
      "      Epoch    GPU_mem   box_loss   cls_loss   dfl_loss  Instances       Size\n",
      "     72/100       4.1G      1.542      1.102      1.231          0        640: 100%|██████████| 299/299 [00:59<00:00,  \n",
      "                 Class     Images  Instances      Box(P          R      mAP50  mAP50-95): 100%|██████████| 28/28 [00:07\n",
      "                   all        871       1394      0.644      0.563      0.591      0.257\n",
      "\n",
      "      Epoch    GPU_mem   box_loss   cls_loss   dfl_loss  Instances       Size\n",
      "     73/100      4.24G      1.542      1.108       1.23          0        640: 100%|██████████| 299/299 [00:58<00:00,  \n",
      "                 Class     Images  Instances      Box(P          R      mAP50  mAP50-95): 100%|██████████| 28/28 [00:07\n",
      "                   all        871       1394      0.626      0.556      0.589      0.257\n",
      "\n",
      "      Epoch    GPU_mem   box_loss   cls_loss   dfl_loss  Instances       Size\n",
      "     74/100      4.26G      1.532      1.101       1.23          0        640: 100%|██████████| 299/299 [00:58<00:00,  \n",
      "                 Class     Images  Instances      Box(P          R      mAP50  mAP50-95): 100%|██████████| 28/28 [00:07\n",
      "                   all        871       1394      0.634      0.543      0.579      0.252\n",
      "\n",
      "      Epoch    GPU_mem   box_loss   cls_loss   dfl_loss  Instances       Size\n",
      "     75/100      4.24G      1.522      1.073      1.233          8        640: 100%|██████████| 299/299 [00:58<00:00,  \n",
      "                 Class     Images  Instances      Box(P          R      mAP50  mAP50-95): 100%|██████████| 28/28 [00:07\n",
      "                   all        871       1394      0.652      0.547      0.584      0.255\n",
      "\n",
      "      Epoch    GPU_mem   box_loss   cls_loss   dfl_loss  Instances       Size\n",
      "     76/100      4.26G      1.533       1.08      1.224          5        640: 100%|██████████| 299/299 [00:59<00:00,  \n",
      "                 Class     Images  Instances      Box(P          R      mAP50  mAP50-95): 100%|██████████| 28/28 [00:07\n",
      "                   all        871       1394      0.645       0.56      0.598      0.261\n",
      "\n",
      "      Epoch    GPU_mem   box_loss   cls_loss   dfl_loss  Instances       Size\n",
      "     77/100      4.09G      1.524      1.081      1.222          0        640: 100%|██████████| 299/299 [00:59<00:00,  \n",
      "                 Class     Images  Instances      Box(P          R      mAP50  mAP50-95): 100%|██████████| 28/28 [00:07\n",
      "                   all        871       1394      0.624       0.57      0.585      0.258\n",
      "\n",
      "      Epoch    GPU_mem   box_loss   cls_loss   dfl_loss  Instances       Size\n",
      "     78/100       4.1G      1.506      1.068      1.218          3        640: 100%|██████████| 299/299 [00:59<00:00,  \n",
      "                 Class     Images  Instances      Box(P          R      mAP50  mAP50-95): 100%|██████████| 28/28 [00:07\n",
      "                   all        871       1394      0.648      0.553      0.586      0.255\n",
      "\n",
      "      Epoch    GPU_mem   box_loss   cls_loss   dfl_loss  Instances       Size\n",
      "     79/100      4.24G      1.503      1.056      1.207          0        640: 100%|██████████| 299/299 [00:59<00:00,  \n",
      "                 Class     Images  Instances      Box(P          R      mAP50  mAP50-95): 100%|██████████| 28/28 [00:07\n",
      "                   all        871       1394      0.692       0.54      0.603      0.261\n",
      "\n",
      "      Epoch    GPU_mem   box_loss   cls_loss   dfl_loss  Instances       Size\n",
      "     80/100      4.26G      1.486      1.025      1.202          7        640: 100%|██████████| 299/299 [00:58<00:00,  \n",
      "                 Class     Images  Instances      Box(P          R      mAP50  mAP50-95): 100%|██████████| 28/28 [00:07\n",
      "                   all        871       1394      0.665      0.558      0.591      0.257\n",
      "\n",
      "      Epoch    GPU_mem   box_loss   cls_loss   dfl_loss  Instances       Size\n",
      "     81/100      4.24G      1.474      1.036      1.195          0        640: 100%|██████████| 299/299 [00:58<00:00,  \n",
      "                 Class     Images  Instances      Box(P          R      mAP50  mAP50-95): 100%|██████████| 28/28 [00:07\n",
      "                   all        871       1394      0.655      0.554      0.598      0.259\n",
      "\n",
      "      Epoch    GPU_mem   box_loss   cls_loss   dfl_loss  Instances       Size\n",
      "     82/100      4.27G      1.472      1.006      1.198          3        640: 100%|██████████| 299/299 [00:59<00:00,  \n",
      "                 Class     Images  Instances      Box(P          R      mAP50  mAP50-95): 100%|██████████| 28/28 [00:07\n",
      "                   all        871       1394      0.679       0.53      0.589      0.257\n",
      "\n",
      "      Epoch    GPU_mem   box_loss   cls_loss   dfl_loss  Instances       Size\n",
      "     83/100      4.24G      1.486      1.024      1.192          8        640: 100%|██████████| 299/299 [00:58<00:00,  \n",
      "                 Class     Images  Instances      Box(P          R      mAP50  mAP50-95): 100%|██████████| 28/28 [00:07\n",
      "                   all        871       1394      0.675      0.558      0.597      0.261\n",
      "\n",
      "      Epoch    GPU_mem   box_loss   cls_loss   dfl_loss  Instances       Size\n",
      "     84/100      4.26G      1.467     0.9965      1.191          8        640: 100%|██████████| 299/299 [00:58<00:00,  \n",
      "                 Class     Images  Instances      Box(P          R      mAP50  mAP50-95): 100%|██████████| 28/28 [00:07\n",
      "                   all        871       1394      0.637       0.58      0.592       0.26\n",
      "\n",
      "      Epoch    GPU_mem   box_loss   cls_loss   dfl_loss  Instances       Size\n",
      "     85/100      4.25G      1.455     0.9862      1.187          2        640: 100%|██████████| 299/299 [00:59<00:00,  \n",
      "                 Class     Images  Instances      Box(P          R      mAP50  mAP50-95): 100%|██████████| 28/28 [00:07\n",
      "                   all        871       1394      0.668      0.556      0.596      0.261\n",
      "\n",
      "      Epoch    GPU_mem   box_loss   cls_loss   dfl_loss  Instances       Size\n",
      "     86/100      4.26G      1.449     0.9855      1.192          1        640: 100%|██████████| 299/299 [00:59<00:00,  \n",
      "                 Class     Images  Instances      Box(P          R      mAP50  mAP50-95): 100%|██████████| 28/28 [00:07\n",
      "                   all        871       1394      0.647      0.572      0.602      0.262\n",
      "\n",
      "      Epoch    GPU_mem   box_loss   cls_loss   dfl_loss  Instances       Size\n",
      "     87/100      4.24G       1.44     0.9713      1.172          0        640: 100%|██████████| 299/299 [00:59<00:00,  \n",
      "                 Class     Images  Instances      Box(P          R      mAP50  mAP50-95): 100%|██████████| 28/28 [00:07\n",
      "                   all        871       1394      0.658      0.577      0.604      0.262\n",
      "\n",
      "      Epoch    GPU_mem   box_loss   cls_loss   dfl_loss  Instances       Size\n",
      "     88/100      4.26G      1.444     0.9637       1.18          3        640: 100%|██████████| 299/299 [00:58<00:00,  \n",
      "                 Class     Images  Instances      Box(P          R      mAP50  mAP50-95): 100%|██████████| 28/28 [00:07\n",
      "                   all        871       1394      0.681      0.571        0.6      0.261\n",
      "\n",
      "      Epoch    GPU_mem   box_loss   cls_loss   dfl_loss  Instances       Size\n",
      "     89/100      4.09G       1.45     0.9837      1.187          2        640: 100%|██████████| 299/299 [00:59<00:00,  \n",
      "                 Class     Images  Instances      Box(P          R      mAP50  mAP50-95): 100%|██████████| 28/28 [00:07\n",
      "                   all        871       1394      0.666      0.575      0.597      0.261\n",
      "\n",
      "      Epoch    GPU_mem   box_loss   cls_loss   dfl_loss  Instances       Size\n",
      "     90/100       4.1G      1.418     0.9587       1.17          1        640: 100%|██████████| 299/299 [00:59<00:00,  \n",
      "                 Class     Images  Instances      Box(P          R      mAP50  mAP50-95): 100%|██████████| 28/28 [00:07\n",
      "                   all        871       1394       0.69       0.56      0.601      0.259\n",
      "Closing dataloader mosaic\n",
      "\n",
      "      Epoch    GPU_mem   box_loss   cls_loss   dfl_loss  Instances       Size\n",
      "     91/100      4.07G       1.44     0.9276      1.167          1        640: 100%|██████████| 299/299 [00:58<00:00,  \n",
      "                 Class     Images  Instances      Box(P          R      mAP50  mAP50-95): 100%|██████████| 28/28 [00:06\n",
      "                   all        871       1394      0.666      0.561      0.596      0.255\n",
      "\n",
      "      Epoch    GPU_mem   box_loss   cls_loss   dfl_loss  Instances       Size\n",
      "     92/100       4.1G      1.415     0.8947      1.158          3        640: 100%|██████████| 299/299 [00:58<00:00,  \n",
      "                 Class     Images  Instances      Box(P          R      mAP50  mAP50-95): 100%|██████████| 28/28 [00:07\n",
      "                   all        871       1394      0.656      0.565      0.596      0.255\n",
      "\n",
      "      Epoch    GPU_mem   box_loss   cls_loss   dfl_loss  Instances       Size\n",
      "     93/100      4.24G      1.397     0.8797      1.154          1        640: 100%|██████████| 299/299 [00:58<00:00,  \n",
      "                 Class     Images  Instances      Box(P          R      mAP50  mAP50-95): 100%|██████████| 28/28 [00:07\n",
      "                   all        871       1394      0.672      0.546      0.594      0.256\n",
      "\n",
      "      Epoch    GPU_mem   box_loss   cls_loss   dfl_loss  Instances       Size\n",
      "     94/100      4.26G        1.4     0.8786       1.15          3        640: 100%|██████████| 299/299 [00:58<00:00,  \n",
      "                 Class     Images  Instances      Box(P          R      mAP50  mAP50-95): 100%|██████████| 28/28 [00:07\n",
      "                   all        871       1394      0.673      0.559      0.602      0.259\n",
      "\n",
      "      Epoch    GPU_mem   box_loss   cls_loss   dfl_loss  Instances       Size\n",
      "     95/100      4.24G      1.397     0.8661      1.149          3        640: 100%|██████████| 299/299 [00:58<00:00,  \n",
      "                 Class     Images  Instances      Box(P          R      mAP50  mAP50-95): 100%|██████████| 28/28 [00:07\n",
      "                   all        871       1394      0.691      0.548      0.605      0.258\n",
      "\n",
      "      Epoch    GPU_mem   box_loss   cls_loss   dfl_loss  Instances       Size\n",
      "     96/100      4.26G      1.386     0.8553      1.143          3        640: 100%|██████████| 299/299 [00:58<00:00,  \n",
      "                 Class     Images  Instances      Box(P          R      mAP50  mAP50-95): 100%|██████████| 28/28 [00:07\n",
      "                   all        871       1394      0.676       0.56      0.607       0.26\n",
      "\n",
      "      Epoch    GPU_mem   box_loss   cls_loss   dfl_loss  Instances       Size\n",
      "     97/100      4.09G      1.364     0.8443      1.134          1        640: 100%|██████████| 299/299 [00:58<00:00,  \n",
      "                 Class     Images  Instances      Box(P          R      mAP50  mAP50-95): 100%|██████████| 28/28 [00:07\n",
      "                   all        871       1394       0.68      0.546      0.606      0.258\n",
      "\n",
      "      Epoch    GPU_mem   box_loss   cls_loss   dfl_loss  Instances       Size\n",
      "     98/100      4.26G      1.365     0.8393      1.128          1        640: 100%|██████████| 299/299 [00:58<00:00,  \n",
      "                 Class     Images  Instances      Box(P          R      mAP50  mAP50-95): 100%|██████████| 28/28 [00:07\n",
      "                   all        871       1394      0.681      0.549      0.603      0.259\n",
      "\n",
      "      Epoch    GPU_mem   box_loss   cls_loss   dfl_loss  Instances       Size\n",
      "     99/100      4.25G      1.366      0.843       1.13          3        640: 100%|██████████| 299/299 [00:58<00:00,  \n",
      "                 Class     Images  Instances      Box(P          R      mAP50  mAP50-95): 100%|██████████| 28/28 [00:07\n",
      "                   all        871       1394      0.705      0.534      0.604      0.257\n",
      "\n",
      "      Epoch    GPU_mem   box_loss   cls_loss   dfl_loss  Instances       Size\n",
      "    100/100      4.26G       1.35     0.8277      1.123          3        640: 100%|██████████| 299/299 [00:58<00:00,  \n",
      "                 Class     Images  Instances      Box(P          R      mAP50  mAP50-95): 100%|██████████| 28/28 [00:07\n",
      "                   all        871       1394      0.638      0.574      0.602      0.259\n",
      "\n",
      "100 epochs completed in 2.070 hours.\n",
      "Optimizer stripped from runs\\detect\\yolov8_road_pavement10\\weights\\last.pt, 22.5MB\n",
      "Optimizer stripped from runs\\detect\\yolov8_road_pavement10\\weights\\best.pt, 22.5MB\n",
      "\n",
      "Validating runs\\detect\\yolov8_road_pavement10\\weights\\best.pt...\n",
      "Ultralytics YOLOv8.0.196  Python-3.12.4 torch-2.3.1+cu118 CUDA:0 (NVIDIA GeForce RTX 4060 Laptop GPU, 8188MiB)\n",
      "Model summary (fused): 168 layers, 11125971 parameters, 0 gradients, 28.4 GFLOPs\n",
      "                 Class     Images  Instances      Box(P          R      mAP50  mAP50-95): 100%|██████████| 28/28 [00:07\n",
      "                   all        871       1394      0.646      0.559      0.594      0.264\n",
      "Speed: 0.2ms preprocess, 3.6ms inference, 0.0ms loss, 0.9ms postprocess per image\n",
      "Results saved to \u001b[1mruns\\detect\\yolov8_road_pavement10\u001b[0m\n"
     ]
    },
    {
     "data": {
      "text/plain": [
       "ultralytics.utils.metrics.DetMetrics object with attributes:\n",
       "\n",
       "ap_class_index: array([0])\n",
       "box: ultralytics.utils.metrics.Metric object\n",
       "confusion_matrix: <ultralytics.utils.metrics.ConfusionMatrix object at 0x000001C599035FA0>\n",
       "fitness: 0.2972084349899648\n",
       "keys: ['metrics/precision(B)', 'metrics/recall(B)', 'metrics/mAP50(B)', 'metrics/mAP50-95(B)']\n",
       "maps: array([    0.26427])\n",
       "names: {0: 'pavement'}\n",
       "plot: True\n",
       "results_dict: {'metrics/precision(B)': 0.6455129793618928, 'metrics/recall(B)': 0.5588235294117647, 'metrics/mAP50(B)': 0.5936212542218084, 'metrics/mAP50-95(B)': 0.2642736772975377, 'fitness': 0.2972084349899648}\n",
       "save_dir: WindowsPath('runs/detect/yolov8_road_pavement10')\n",
       "speed: {'preprocess': 0.2107603815475096, 'inference': 3.5722699148920456, 'loss': 0.0, 'postprocess': 0.8815821221720611}"
      ]
     },
     "execution_count": 8,
     "metadata": {},
     "output_type": "execute_result"
    }
   ],
   "source": [
    "# Define paths for train, validation, and test data\n",
    "data_config = {\n",
    "    'train': train_images_dir,\n",
    "    'val': val_images_dir,\n",
    "    'test': test_images_dir,\n",
    "    'nc': 1,  # Number of classes\n",
    "    'names': ['pavement']  # Class names\n",
    "}\n",
    "\n",
    "# Save the data config file\n",
    "import yaml\n",
    "with open('data.yaml', 'w') as f:\n",
    "    yaml.dump(data_config, f)\n",
    "\n",
    "# Train the model\n",
    "model.train(data='data.yaml', epochs=100, batch=16, imgsz=640, name='yolov8_road_pavement')\n"
   ]
  },
  {
   "cell_type": "code",
   "execution_count": 10,
   "id": "984aa710-1f6e-4d1c-8973-bc5f968c83f0",
   "metadata": {},
   "outputs": [
    {
     "name": "stderr",
     "output_type": "stream",
     "text": [
      "Ultralytics YOLOv8.0.196  Python-3.12.4 torch-2.3.1+cu118 CUDA:0 (NVIDIA GeForce RTX 4060 Laptop GPU, 8188MiB)\n",
      "Model summary (fused): 168 layers, 11125971 parameters, 0 gradients, 28.4 GFLOPs\n",
      "\u001b[34m\u001b[1mval: \u001b[0mScanning C:\\Users\\Mohammad\\Desktop\\New folder (2)\\archive-6\\train-pure\\train-pure\\labels\\test... 1590 images, 0 ba\u001b[0m\n",
      "\u001b[34m\u001b[1mval: \u001b[0mWARNING  C:\\Users\\Mohammad\\Desktop\\New folder (2)\\archive-6\\train-pure\\train-pure\\images\\test\\G0011614_jpg.rf.ccad2055aa6ecc87078ca39ff30513d0.jpg: 1 duplicate labels removed\n",
      "\u001b[34m\u001b[1mval: \u001b[0mWARNING  C:\\Users\\Mohammad\\Desktop\\New folder (2)\\archive-6\\train-pure\\train-pure\\images\\test\\G0011616_jpg.rf.240736dd565d36dff7fb4d9f4aa0c9f2.jpg: 2 duplicate labels removed\n",
      "\u001b[34m\u001b[1mval: \u001b[0mWARNING  C:\\Users\\Mohammad\\Desktop\\New folder (2)\\archive-6\\train-pure\\train-pure\\images\\test\\G0011705_jpg.rf.ce05796e61f41ec5a310fb490ae85297.jpg: 1 duplicate labels removed\n",
      "\u001b[34m\u001b[1mval: \u001b[0mWARNING  C:\\Users\\Mohammad\\Desktop\\New folder (2)\\archive-6\\train-pure\\train-pure\\images\\test\\G0011769_jpg.rf.0a9c7a0febacf2ddcf07f78b3acca0c1.jpg: 3 duplicate labels removed\n",
      "\u001b[34m\u001b[1mval: \u001b[0mWARNING  C:\\Users\\Mohammad\\Desktop\\New folder (2)\\archive-6\\train-pure\\train-pure\\images\\test\\G0011878_jpg.rf.64aa42c50c1a2dc4ab16f692aa879a72.jpg: 2 duplicate labels removed\n",
      "\u001b[34m\u001b[1mval: \u001b[0mWARNING  C:\\Users\\Mohammad\\Desktop\\New folder (2)\\archive-6\\train-pure\\train-pure\\images\\test\\G0011968_jpg.rf.24bbf568d31c073c33d0930c90c2448b.jpg: 2 duplicate labels removed\n",
      "\u001b[34m\u001b[1mval: \u001b[0mWARNING  C:\\Users\\Mohammad\\Desktop\\New folder (2)\\archive-6\\train-pure\\train-pure\\images\\test\\G0011982_jpg.rf.d4cb952159b91aebf3820641894d465d.jpg: 1 duplicate labels removed\n",
      "\u001b[34m\u001b[1mval: \u001b[0mWARNING  C:\\Users\\Mohammad\\Desktop\\New folder (2)\\archive-6\\train-pure\\train-pure\\images\\test\\G0012012_jpg.rf.412f0b9e314d903f91a8948670df7743.jpg: 2 duplicate labels removed\n",
      "\u001b[34m\u001b[1mval: \u001b[0mWARNING  C:\\Users\\Mohammad\\Desktop\\New folder (2)\\archive-6\\train-pure\\train-pure\\images\\test\\G0052120_jpg.rf.f12b0fa5d7bae8b4071e7f8ffb3ab515.jpg: 1 duplicate labels removed\n",
      "\u001b[34m\u001b[1mval: \u001b[0mWARNING  C:\\Users\\Mohammad\\Desktop\\New folder (2)\\archive-6\\train-pure\\train-pure\\images\\test\\G0063926_jpg.rf.fe26c024165642adfb5f9aed23d34335.jpg: 1 duplicate labels removed\n",
      "\u001b[34m\u001b[1mval: \u001b[0mWARNING  C:\\Users\\Mohammad\\Desktop\\New folder (2)\\archive-6\\train-pure\\train-pure\\images\\test\\G0064146_jpg.rf.d4f9a925e458ba056074f1f0d2e87ebb.jpg: 1 duplicate labels removed\n",
      "\u001b[34m\u001b[1mval: \u001b[0mWARNING  C:\\Users\\Mohammad\\Desktop\\New folder (2)\\archive-6\\train-pure\\train-pure\\images\\test\\G0064409_jpg.rf.30b6e67f997f709835db7389d18a7261.jpg: 4 duplicate labels removed\n",
      "\u001b[34m\u001b[1mval: \u001b[0mWARNING  C:\\Users\\Mohammad\\Desktop\\New folder (2)\\archive-6\\train-pure\\train-pure\\images\\test\\G0064427_jpg.rf.f50b2ec342115e003cfd2eb65a63f4c3.jpg: 1 duplicate labels removed\n",
      "\u001b[34m\u001b[1mval: \u001b[0mWARNING  C:\\Users\\Mohammad\\Desktop\\New folder (2)\\archive-6\\train-pure\\train-pure\\images\\test\\G0064428_jpg.rf.5a737121db0e430eb358fc7dd0e2d8d0.jpg: 2 duplicate labels removed\n",
      "\u001b[34m\u001b[1mval: \u001b[0mWARNING  C:\\Users\\Mohammad\\Desktop\\New folder (2)\\archive-6\\train-pure\\train-pure\\images\\test\\G0064433_jpg.rf.2fb0ac67f9fd2f16901d234c1c95b0a3.jpg: 1 duplicate labels removed\n",
      "\u001b[34m\u001b[1mval: \u001b[0mWARNING  C:\\Users\\Mohammad\\Desktop\\New folder (2)\\archive-6\\train-pure\\train-pure\\images\\test\\G0064438_jpg.rf.e39796428e751bbbed43816c04c9a619.jpg: 3 duplicate labels removed\n",
      "\u001b[34m\u001b[1mval: \u001b[0mWARNING  C:\\Users\\Mohammad\\Desktop\\New folder (2)\\archive-6\\train-pure\\train-pure\\images\\test\\G0064445_jpg.rf.b4f1fdeb8fd3b8c0ffb754c08999ee77.jpg: 2 duplicate labels removed\n",
      "\u001b[34m\u001b[1mval: \u001b[0mWARNING  C:\\Users\\Mohammad\\Desktop\\New folder (2)\\archive-6\\train-pure\\train-pure\\images\\test\\G0064446_jpg.rf.7f24f3162101c59ccb535a551ebd1bc4.jpg: 2 duplicate labels removed\n",
      "\u001b[34m\u001b[1mval: \u001b[0mWARNING  C:\\Users\\Mohammad\\Desktop\\New folder (2)\\archive-6\\train-pure\\train-pure\\images\\test\\G0064449_jpg.rf.26c8158bdce92f3940bddbf4fd018a23.jpg: 1 duplicate labels removed\n",
      "\u001b[34m\u001b[1mval: \u001b[0mWARNING  C:\\Users\\Mohammad\\Desktop\\New folder (2)\\archive-6\\train-pure\\train-pure\\images\\test\\G0064451_jpg.rf.39d3a05bee716ea9ad2a1a5779ec9c7b.jpg: 1 duplicate labels removed\n",
      "\u001b[34m\u001b[1mval: \u001b[0mWARNING  C:\\Users\\Mohammad\\Desktop\\New folder (2)\\archive-6\\train-pure\\train-pure\\images\\test\\G0064511_jpg.rf.ab6951def4fa62f5753d5e218456184c.jpg: 2 duplicate labels removed\n",
      "\u001b[34m\u001b[1mval: \u001b[0mWARNING  C:\\Users\\Mohammad\\Desktop\\New folder (2)\\archive-6\\train-pure\\train-pure\\images\\test\\G0064523_jpg.rf.49ed74965160b2fafd8275ca797995bc.jpg: 6 duplicate labels removed\n",
      "\u001b[34m\u001b[1mval: \u001b[0mWARNING  C:\\Users\\Mohammad\\Desktop\\New folder (2)\\archive-6\\train-pure\\train-pure\\images\\test\\G0064527_jpg.rf.2fd24b38aed79af8d494cdee691e6286.jpg: 5 duplicate labels removed\n",
      "\u001b[34m\u001b[1mval: \u001b[0mWARNING  C:\\Users\\Mohammad\\Desktop\\New folder (2)\\archive-6\\train-pure\\train-pure\\images\\test\\G0064530_jpg.rf.e4026692227b9924a93020a535606071.jpg: 4 duplicate labels removed\n",
      "\u001b[34m\u001b[1mval: \u001b[0mWARNING  C:\\Users\\Mohammad\\Desktop\\New folder (2)\\archive-6\\train-pure\\train-pure\\images\\test\\G0064532_jpg.rf.453ddead7c0dfc8bf798fa0538adb35a.jpg: 3 duplicate labels removed\n",
      "\u001b[34m\u001b[1mval: \u001b[0mWARNING  C:\\Users\\Mohammad\\Desktop\\New folder (2)\\archive-6\\train-pure\\train-pure\\images\\test\\G0064544_jpg.rf.74e39fbf43a254ee44ef51e4fdfe8fcd.jpg: 2 duplicate labels removed\n",
      "\u001b[34m\u001b[1mval: \u001b[0mWARNING  C:\\Users\\Mohammad\\Desktop\\New folder (2)\\archive-6\\train-pure\\train-pure\\images\\test\\G0064546_jpg.rf.8ed3be84661c3ac4b2276cb65bb1ec37.jpg: 1 duplicate labels removed\n",
      "\u001b[34m\u001b[1mval: \u001b[0mWARNING  C:\\Users\\Mohammad\\Desktop\\New folder (2)\\archive-6\\train-pure\\train-pure\\images\\test\\G0064548_jpg.rf.099bd6689031581be047461d332c4d28.jpg: 1 duplicate labels removed\n",
      "\u001b[34m\u001b[1mval: \u001b[0mWARNING  C:\\Users\\Mohammad\\Desktop\\New folder (2)\\archive-6\\train-pure\\train-pure\\images\\test\\G0064577_jpg.rf.18a29d1b64c8d789d2b60931b41ea901.jpg: 1 duplicate labels removed\n",
      "\u001b[34m\u001b[1mval: \u001b[0mWARNING  C:\\Users\\Mohammad\\Desktop\\New folder (2)\\archive-6\\train-pure\\train-pure\\images\\test\\G0064589_jpg.rf.bd74d107952d4899aa3a3ccfd024cddc.jpg: 1 duplicate labels removed\n",
      "\u001b[34m\u001b[1mval: \u001b[0mWARNING  C:\\Users\\Mohammad\\Desktop\\New folder (2)\\archive-6\\train-pure\\train-pure\\images\\test\\G0064590_jpg.rf.d756587e30f00365d8a4eef441a7dea8.jpg: 1 duplicate labels removed\n",
      "\u001b[34m\u001b[1mval: \u001b[0mWARNING  C:\\Users\\Mohammad\\Desktop\\New folder (2)\\archive-6\\train-pure\\train-pure\\images\\test\\G0064702_jpg.rf.1654012b7623a82c0055974fefcc564f.jpg: 3 duplicate labels removed\n",
      "\u001b[34m\u001b[1mval: \u001b[0mWARNING  C:\\Users\\Mohammad\\Desktop\\New folder (2)\\archive-6\\train-pure\\train-pure\\images\\test\\G0064715_jpg.rf.e925d1f210e51d083bdf32ffa8226b96.jpg: 1 duplicate labels removed\n",
      "\u001b[34m\u001b[1mval: \u001b[0mWARNING  C:\\Users\\Mohammad\\Desktop\\New folder (2)\\archive-6\\train-pure\\train-pure\\images\\test\\G0064722_jpg.rf.a3b89dcf1b4bbbe5289b34f02f14b274.jpg: 2 duplicate labels removed\n",
      "\u001b[34m\u001b[1mval: \u001b[0mWARNING  C:\\Users\\Mohammad\\Desktop\\New folder (2)\\archive-6\\train-pure\\train-pure\\images\\test\\G0064724_jpg.rf.d8f6a3d552c5ce45c310625d52523b19.jpg: 3 duplicate labels removed\n",
      "\u001b[34m\u001b[1mval: \u001b[0mWARNING  C:\\Users\\Mohammad\\Desktop\\New folder (2)\\archive-6\\train-pure\\train-pure\\images\\test\\G0064739_jpg.rf.b17d20997fe4be721baae44e0d63fc08.jpg: 2 duplicate labels removed\n",
      "\u001b[34m\u001b[1mval: \u001b[0mWARNING  C:\\Users\\Mohammad\\Desktop\\New folder (2)\\archive-6\\train-pure\\train-pure\\images\\test\\G0064743_jpg.rf.071c27768bfd080ae350f2701cb0d4ba.jpg: 1 duplicate labels removed\n",
      "\u001b[34m\u001b[1mval: \u001b[0mWARNING  C:\\Users\\Mohammad\\Desktop\\New folder (2)\\archive-6\\train-pure\\train-pure\\images\\test\\G0064779_jpg.rf.e34a4bc1919de20ad152496a859d777e.jpg: 1 duplicate labels removed\n",
      "\u001b[34m\u001b[1mval: \u001b[0mWARNING  C:\\Users\\Mohammad\\Desktop\\New folder (2)\\archive-6\\train-pure\\train-pure\\images\\test\\G0064806_jpg.rf.8d5ad0f901df0729136c3c947e982629.jpg: 1 duplicate labels removed\n",
      "\u001b[34m\u001b[1mval: \u001b[0mWARNING  C:\\Users\\Mohammad\\Desktop\\New folder (2)\\archive-6\\train-pure\\train-pure\\images\\test\\G0064810_jpg.rf.c198cca085cc6fa371bb0572611ab4e3.jpg: 1 duplicate labels removed\n",
      "\u001b[34m\u001b[1mval: \u001b[0mWARNING  C:\\Users\\Mohammad\\Desktop\\New folder (2)\\archive-6\\train-pure\\train-pure\\images\\test\\G0064823_jpg.rf.f55abb814d16e57eec1cc8e7472cc4b2.jpg: 1 duplicate labels removed\n",
      "\u001b[34m\u001b[1mval: \u001b[0mWARNING  C:\\Users\\Mohammad\\Desktop\\New folder (2)\\archive-6\\train-pure\\train-pure\\images\\test\\G0459767_jpg.rf.7f94b0ae541f80014d495136a7cdd03e.jpg: 2 duplicate labels removed\n",
      "\u001b[34m\u001b[1mval: \u001b[0mNew cache created: C:\\Users\\Mohammad\\Desktop\\New folder (2)\\archive-6\\train-pure\\train-pure\\labels\\test.cache\n",
      "                 Class     Images  Instances      Box(P          R      mAP50  mAP50-95): 100%|██████████| 100/100 [00:\n",
      "                   all       1590       3685      0.648      0.523      0.567      0.263\n",
      "Speed: 0.3ms preprocess, 6.0ms inference, 0.0ms loss, 0.7ms postprocess per image\n",
      "Results saved to \u001b[1mruns\\detect\\yolov8_road_pavement11\u001b[0m\n"
     ]
    }
   ],
   "source": [
    "results=model.val(data='data.yaml', split='test')"
   ]
  },
  {
   "cell_type": "code",
   "execution_count": 84,
   "id": "1db65277-2b5f-41f5-b9a4-8a3003347fa4",
   "metadata": {},
   "outputs": [
    {
     "name": "stderr",
     "output_type": "stream",
     "text": [
      "\n",
      "image 1/1 C:\\Users\\Mohammad\\Desktop\\New folder (2)\\archive-6\\train-pure\\train-pure\\images\\test\\India_005399_jpg.rf.808b173d4f6a413ad7d790e240663244.jpg: 640x640 (no detections), 60.8ms\n",
      "Speed: 4.4ms preprocess, 60.8ms inference, 2.0ms postprocess per image at shape (1, 3, 640, 640)\n",
      "\n",
      "image 1/1 C:\\Users\\Mohammad\\Desktop\\New folder (2)\\archive-6\\train-pure\\train-pure\\images\\test\\India_008271_jpg.rf.b968924a8d8a12574497cc2a91ffb362.jpg: 640x640 1 pavement, 59.9ms\n",
      "Speed: 4.0ms preprocess, 59.9ms inference, 4.3ms postprocess per image at shape (1, 3, 640, 640)\n",
      "\n",
      "image 1/1 C:\\Users\\Mohammad\\Desktop\\New folder (2)\\archive-6\\train-pure\\train-pure\\images\\test\\India_002880_jpg.rf.81a481f4b7c4c7a7f4cdae9003dd4f5e.jpg: 640x640 1 pavement, 54.6ms\n",
      "Speed: 4.0ms preprocess, 54.6ms inference, 3.0ms postprocess per image at shape (1, 3, 640, 640)\n",
      "\n",
      "image 1/1 C:\\Users\\Mohammad\\Desktop\\New folder (2)\\archive-6\\train-pure\\train-pure\\images\\test\\India_006640_jpg.rf.2d53bcf9c94d9024d764f52e22ba4240.jpg: 640x640 5 pavements, 7.8ms\n",
      "Speed: 2.5ms preprocess, 7.8ms inference, 1.7ms postprocess per image at shape (1, 3, 640, 640)\n",
      "\n",
      "image 1/1 C:\\Users\\Mohammad\\Desktop\\New folder (2)\\archive-6\\train-pure\\train-pure\\images\\test\\Japan_001241_jpg.rf.0e3c3da40b96fda0c6a4cbec41cfefeb.jpg: 640x640 1 pavement, 7.5ms\n",
      "Speed: 2.0ms preprocess, 7.5ms inference, 2.0ms postprocess per image at shape (1, 3, 640, 640)\n",
      "\n",
      "image 1/1 C:\\Users\\Mohammad\\Desktop\\New folder (2)\\archive-6\\train-pure\\train-pure\\images\\test\\G0011760_jpg.rf.c7b5fe46dd95a8f0eddf2f61b6e7c674.jpg: 640x640 1 pavement, 6.7ms\n",
      "Speed: 3.3ms preprocess, 6.7ms inference, 2.0ms postprocess per image at shape (1, 3, 640, 640)\n",
      "\n",
      "image 1/1 C:\\Users\\Mohammad\\Desktop\\New folder (2)\\archive-6\\train-pure\\train-pure\\images\\test\\China_MotorBike_001508_jpg.rf.1116b5187197ac15fccb1d1463be8037.jpg: 640x640 1 pavement, 7.5ms\n",
      "Speed: 1.5ms preprocess, 7.5ms inference, 2.0ms postprocess per image at shape (1, 3, 640, 640)\n",
      "\n",
      "image 1/1 C:\\Users\\Mohammad\\Desktop\\New folder (2)\\archive-6\\train-pure\\train-pure\\images\\test\\G0028338_jpg.rf.a29690b96f0783bbda1f27fba06365f9.jpg: 640x640 1 pavement, 7.5ms\n",
      "Speed: 2.1ms preprocess, 7.5ms inference, 2.4ms postprocess per image at shape (1, 3, 640, 640)\n",
      "\n",
      "image 1/1 C:\\Users\\Mohammad\\Desktop\\New folder (2)\\archive-6\\train-pure\\train-pure\\images\\test\\India_008327_jpg.rf.bad6b125df9e40b3e096aa5635d26afa.jpg: 640x640 2 pavements, 6.6ms\n",
      "Speed: 3.3ms preprocess, 6.6ms inference, 2.0ms postprocess per image at shape (1, 3, 640, 640)\n",
      "\n",
      "image 1/1 C:\\Users\\Mohammad\\Desktop\\New folder (2)\\archive-6\\train-pure\\train-pure\\images\\test\\G0040661_jpg.rf.583b9dfc48f020f078a7708159689432.jpg: 640x640 (no detections), 7.2ms\n",
      "Speed: 2.4ms preprocess, 7.2ms inference, 1.0ms postprocess per image at shape (1, 3, 640, 640)\n",
      "\n",
      "image 1/1 C:\\Users\\Mohammad\\Desktop\\New folder (2)\\archive-6\\train-pure\\train-pure\\images\\test\\India_006808_jpg.rf.2d737177cd2317785c5063ccd04dcbcd.jpg: 640x640 1 pavement, 7.0ms\n",
      "Speed: 3.0ms preprocess, 7.0ms inference, 2.0ms postprocess per image at shape (1, 3, 640, 640)\n",
      "\n",
      "image 1/1 C:\\Users\\Mohammad\\Desktop\\New folder (2)\\archive-6\\train-pure\\train-pure\\images\\test\\India_005539_jpg.rf.cacbf14efb9b64ce9586e53d04e30099.jpg: 640x640 3 pavements, 7.8ms\n",
      "Speed: 2.2ms preprocess, 7.8ms inference, 2.0ms postprocess per image at shape (1, 3, 640, 640)\n",
      "\n",
      "image 1/1 C:\\Users\\Mohammad\\Desktop\\New folder (2)\\archive-6\\train-pure\\train-pure\\images\\test\\G0028193_jpg.rf.4cd47b6174a68b17a4a0846a13abbf8b.jpg: 640x640 (no detections), 7.5ms\n",
      "Speed: 1.8ms preprocess, 7.5ms inference, 1.0ms postprocess per image at shape (1, 3, 640, 640)\n",
      "\n",
      "image 1/1 C:\\Users\\Mohammad\\Desktop\\New folder (2)\\archive-6\\train-pure\\train-pure\\images\\test\\img-1399_jpg.rf.1f2ac59d37a9c735d363b1094784c4dc.jpg: 640x640 8 pavements, 6.9ms\n",
      "Speed: 3.1ms preprocess, 6.9ms inference, 3.0ms postprocess per image at shape (1, 3, 640, 640)\n",
      "\n",
      "image 1/1 C:\\Users\\Mohammad\\Desktop\\New folder (2)\\archive-6\\train-pure\\train-pure\\images\\test\\G0016558_jpg.rf.3dc28a178df26b8b2790e852de551a0b.jpg: 640x640 (no detections), 6.6ms\n",
      "Speed: 3.2ms preprocess, 6.6ms inference, 1.0ms postprocess per image at shape (1, 3, 640, 640)\n",
      "\n",
      "image 1/1 C:\\Users\\Mohammad\\Desktop\\New folder (2)\\archive-6\\train-pure\\train-pure\\images\\test\\img-1162_jpg.rf.ca8d2757be7bfb15a704db70a8a8c876.jpg: 640x640 4 pavements, 7.0ms\n",
      "Speed: 3.0ms preprocess, 7.0ms inference, 2.0ms postprocess per image at shape (1, 3, 640, 640)\n",
      "\n",
      "image 1/1 C:\\Users\\Mohammad\\Desktop\\New folder (2)\\archive-6\\train-pure\\train-pure\\images\\test\\G0027852_jpg.rf.57513d54b9737f1f2064a31806301cb8.jpg: 640x640 2 pavements, 7.0ms\n",
      "Speed: 2.0ms preprocess, 7.0ms inference, 2.3ms postprocess per image at shape (1, 3, 640, 640)\n",
      "\n",
      "image 1/1 C:\\Users\\Mohammad\\Desktop\\New folder (2)\\archive-6\\train-pure\\train-pure\\images\\test\\Czech_000634_jpg.rf.47c6005eb62650f7cce5fd4a0b9f1efe.jpg: 640x640 1 pavement, 7.6ms\n",
      "Speed: 2.1ms preprocess, 7.6ms inference, 1.1ms postprocess per image at shape (1, 3, 640, 640)\n",
      "\n",
      "image 1/1 C:\\Users\\Mohammad\\Desktop\\New folder (2)\\archive-6\\train-pure\\train-pure\\images\\test\\India_006749_jpg.rf.214bd024a36197ca7eaf53ebb49cdd83.jpg: 640x640 1 pavement, 6.7ms\n",
      "Speed: 2.7ms preprocess, 6.7ms inference, 2.1ms postprocess per image at shape (1, 3, 640, 640)\n",
      "\n",
      "image 1/1 C:\\Users\\Mohammad\\Desktop\\New folder (2)\\archive-6\\train-pure\\train-pure\\images\\test\\China_MotorBike_001016_jpg.rf.43495cf0f3bc9922410c47ecc316b663.jpg: 640x640 1 pavement, 7.0ms\n",
      "Speed: 3.0ms preprocess, 7.0ms inference, 1.0ms postprocess per image at shape (1, 3, 640, 640)\n",
      "\n",
      "image 1/1 C:\\Users\\Mohammad\\Desktop\\New folder (2)\\archive-6\\train-pure\\train-pure\\images\\test\\G0041415_jpg.rf.248c05b84ae329a47490485db0eb305d.jpg: 640x640 2 pavements, 7.5ms\n",
      "Speed: 2.0ms preprocess, 7.5ms inference, 1.5ms postprocess per image at shape (1, 3, 640, 640)\n",
      "\n",
      "image 1/1 C:\\Users\\Mohammad\\Desktop\\New folder (2)\\archive-6\\train-pure\\train-pure\\images\\test\\G0032431_jpg.rf.a62617e462ef10b7d3ef0cb4c53b9d8c.jpg: 640x640 3 pavements, 7.0ms\n",
      "Speed: 2.0ms preprocess, 7.0ms inference, 3.0ms postprocess per image at shape (1, 3, 640, 640)\n",
      "\n",
      "image 1/1 C:\\Users\\Mohammad\\Desktop\\New folder (2)\\archive-6\\train-pure\\train-pure\\images\\test\\Japan_012639_jpg.rf.e0b3d980096d79cfe0a2033a6d10a438.jpg: 640x640 1 pavement, 7.0ms\n",
      "Speed: 2.0ms preprocess, 7.0ms inference, 2.0ms postprocess per image at shape (1, 3, 640, 640)\n",
      "\n",
      "image 1/1 C:\\Users\\Mohammad\\Desktop\\New folder (2)\\archive-6\\train-pure\\train-pure\\images\\test\\G0028337_jpg.rf.0d23387d40daab980fc9e809afdc40ed.jpg: 640x640 (no detections), 7.1ms\n",
      "Speed: 2.6ms preprocess, 7.1ms inference, 1.0ms postprocess per image at shape (1, 3, 640, 640)\n",
      "\n",
      "image 1/1 C:\\Users\\Mohammad\\Desktop\\New folder (2)\\archive-6\\train-pure\\train-pure\\images\\test\\img-965_jpg.rf.a4313d72039f3a021364e2d04fdd6c35.jpg: 640x640 1 pavement, 7.1ms\n",
      "Speed: 3.1ms preprocess, 7.1ms inference, 2.0ms postprocess per image at shape (1, 3, 640, 640)\n",
      "\n",
      "image 1/1 C:\\Users\\Mohammad\\Desktop\\New folder (2)\\archive-6\\train-pure\\train-pure\\images\\test\\G0052692_jpg.rf.c6ca4800765d959e981be3f867c8a338.jpg: 640x640 1 pavement, 8.4ms\n",
      "Speed: 2.3ms preprocess, 8.4ms inference, 2.0ms postprocess per image at shape (1, 3, 640, 640)\n",
      "\n",
      "image 1/1 C:\\Users\\Mohammad\\Desktop\\New folder (2)\\archive-6\\train-pure\\train-pure\\images\\test\\Japan_013105_jpg.rf.eafa8d1015aa5278d543dff05b90031c.jpg: 640x640 3 pavements, 7.0ms\n",
      "Speed: 2.0ms preprocess, 7.0ms inference, 2.0ms postprocess per image at shape (1, 3, 640, 640)\n",
      "\n",
      "image 1/1 C:\\Users\\Mohammad\\Desktop\\New folder (2)\\archive-6\\train-pure\\train-pure\\images\\test\\G0011244_jpg.rf.ee556ebff69637d0043a87c08e1637f9.jpg: 640x640 (no detections), 7.0ms\n",
      "Speed: 3.0ms preprocess, 7.0ms inference, 1.0ms postprocess per image at shape (1, 3, 640, 640)\n",
      "\n",
      "image 1/1 C:\\Users\\Mohammad\\Desktop\\New folder (2)\\archive-6\\train-pure\\train-pure\\images\\test\\Japan_001215_jpg.rf.521b97774c66ad83fe4364715d5f1db8.jpg: 640x640 (no detections), 7.0ms\n",
      "Speed: 3.0ms preprocess, 7.0ms inference, 1.0ms postprocess per image at shape (1, 3, 640, 640)\n",
      "\n",
      "image 1/1 C:\\Users\\Mohammad\\Desktop\\New folder (2)\\archive-6\\train-pure\\train-pure\\images\\test\\China_MotorBike_001059_jpg.rf.7e9e006a4c0109a59ce95b4bf2d50592.jpg: 640x640 3 pavements, 7.0ms\n",
      "Speed: 2.0ms preprocess, 7.0ms inference, 2.0ms postprocess per image at shape (1, 3, 640, 640)\n",
      "\n",
      "image 1/1 C:\\Users\\Mohammad\\Desktop\\New folder (2)\\archive-6\\train-pure\\train-pure\\images\\test\\India_003495_jpg.rf.67f9524786cd46733647f87c54a6eab6.jpg: 640x640 (no detections), 6.0ms\n",
      "Speed: 3.0ms preprocess, 6.0ms inference, 1.0ms postprocess per image at shape (1, 3, 640, 640)\n",
      "\n",
      "image 1/1 C:\\Users\\Mohammad\\Desktop\\New folder (2)\\archive-6\\train-pure\\train-pure\\images\\test\\img-313_jpg.rf.33220e1118ed325bb0daa911d7ae4e20.jpg: 640x640 4 pavements, 6.0ms\n",
      "Speed: 3.0ms preprocess, 6.0ms inference, 2.0ms postprocess per image at shape (1, 3, 640, 640)\n",
      "\n",
      "image 1/1 C:\\Users\\Mohammad\\Desktop\\New folder (2)\\archive-6\\train-pure\\train-pure\\images\\test\\India_007633_jpg.rf.41d83011da41fb0a4c2a61d314efd71b.jpg: 640x640 3 pavements, 7.1ms\n",
      "Speed: 2.0ms preprocess, 7.1ms inference, 1.0ms postprocess per image at shape (1, 3, 640, 640)\n",
      "\n",
      "image 1/1 C:\\Users\\Mohammad\\Desktop\\New folder (2)\\archive-6\\train-pure\\train-pure\\images\\test\\G0024826_jpg.rf.ebb562e6c211acae01846f70bc1e1005.jpg: 640x640 4 pavements, 7.0ms\n",
      "Speed: 3.0ms preprocess, 7.0ms inference, 1.0ms postprocess per image at shape (1, 3, 640, 640)\n",
      "\n",
      "image 1/1 C:\\Users\\Mohammad\\Desktop\\New folder (2)\\archive-6\\train-pure\\train-pure\\images\\test\\G0066552_jpg.rf.a9082263ba399e279b3e45d24d2f2be3.jpg: 640x640 3 pavements, 6.5ms\n",
      "Speed: 2.0ms preprocess, 6.5ms inference, 2.1ms postprocess per image at shape (1, 3, 640, 640)\n",
      "\n",
      "image 1/1 C:\\Users\\Mohammad\\Desktop\\New folder (2)\\archive-6\\train-pure\\train-pure\\images\\test\\G0011602_jpg.rf.1cbe87ae435eff1718f780a02051310b.jpg: 640x640 2 pavements, 8.1ms\n",
      "Speed: 2.0ms preprocess, 8.1ms inference, 3.0ms postprocess per image at shape (1, 3, 640, 640)\n",
      "\n",
      "image 1/1 C:\\Users\\Mohammad\\Desktop\\New folder (2)\\archive-6\\train-pure\\train-pure\\images\\test\\G0064259_jpg.rf.e691e3b5804cd0618b2f03a70cc11ef6.jpg: 640x640 1 pavement, 7.0ms\n",
      "Speed: 2.0ms preprocess, 7.0ms inference, 2.0ms postprocess per image at shape (1, 3, 640, 640)\n",
      "\n",
      "image 1/1 C:\\Users\\Mohammad\\Desktop\\New folder (2)\\archive-6\\train-pure\\train-pure\\images\\test\\G0011618_jpg.rf.87d25b6a4c9f791d98ccdea820aa3502.jpg: 640x640 (no detections), 7.2ms\n",
      "Speed: 2.0ms preprocess, 7.2ms inference, 1.0ms postprocess per image at shape (1, 3, 640, 640)\n",
      "\n",
      "image 1/1 C:\\Users\\Mohammad\\Desktop\\New folder (2)\\archive-6\\train-pure\\train-pure\\images\\test\\India_008948_jpg.rf.de6d24847790a28bd45b68298bf16389.jpg: 640x640 1 pavement, 8.6ms\n",
      "Speed: 3.0ms preprocess, 8.6ms inference, 1.0ms postprocess per image at shape (1, 3, 640, 640)\n",
      "\n",
      "image 1/1 C:\\Users\\Mohammad\\Desktop\\New folder (2)\\archive-6\\train-pure\\train-pure\\images\\test\\G0089825_jpg.rf.a3fca1384daff9323efbf612634f51f4.jpg: 640x640 12 pavements, 6.3ms\n",
      "Speed: 3.0ms preprocess, 6.3ms inference, 1.7ms postprocess per image at shape (1, 3, 640, 640)\n",
      "\n",
      "image 1/1 C:\\Users\\Mohammad\\Desktop\\New folder (2)\\archive-6\\train-pure\\train-pure\\images\\test\\G0398532_jpg.rf.ba1b4e52aa4b36b85dfdfd41bb42c9c8.jpg: 640x640 1 pavement, 6.9ms\n",
      "Speed: 1.5ms preprocess, 6.9ms inference, 2.4ms postprocess per image at shape (1, 3, 640, 640)\n",
      "\n",
      "image 1/1 C:\\Users\\Mohammad\\Desktop\\New folder (2)\\archive-6\\train-pure\\train-pure\\images\\test\\img-389_jpg.rf.3dbe553c5b8dce873e5bd468a19a5c08.jpg: 640x640 5 pavements, 7.5ms\n",
      "Speed: 2.5ms preprocess, 7.5ms inference, 1.0ms postprocess per image at shape (1, 3, 640, 640)\n",
      "\n",
      "image 1/1 C:\\Users\\Mohammad\\Desktop\\New folder (2)\\archive-6\\train-pure\\train-pure\\images\\test\\G0032033_jpg.rf.a05749810defa1a3191fa4d7d6d1ebff.jpg: 640x640 4 pavements, 7.0ms\n",
      "Speed: 3.0ms preprocess, 7.0ms inference, 2.0ms postprocess per image at shape (1, 3, 640, 640)\n",
      "\n",
      "image 1/1 C:\\Users\\Mohammad\\Desktop\\New folder (2)\\archive-6\\train-pure\\train-pure\\images\\test\\India_001168_jpg.rf.56a32b9ee00888e9d6923eeeb9ee181c.jpg: 640x640 (no detections), 7.0ms\n",
      "Speed: 3.0ms preprocess, 7.0ms inference, 1.0ms postprocess per image at shape (1, 3, 640, 640)\n",
      "\n",
      "image 1/1 C:\\Users\\Mohammad\\Desktop\\New folder (2)\\archive-6\\train-pure\\train-pure\\images\\test\\img-65_jpg.rf.c2ca1d5f507b5329b7a10b8a5c2a719b.jpg: 640x640 1 pavement, 8.4ms\n",
      "Speed: 3.6ms preprocess, 8.4ms inference, 2.0ms postprocess per image at shape (1, 3, 640, 640)\n",
      "\n",
      "image 1/1 C:\\Users\\Mohammad\\Desktop\\New folder (2)\\archive-6\\train-pure\\train-pure\\images\\test\\Czech_001025_jpg.rf.d1fd83895710cb7ecd1c4822bc45f765.jpg: 640x640 3 pavements, 7.0ms\n",
      "Speed: 3.6ms preprocess, 7.0ms inference, 2.0ms postprocess per image at shape (1, 3, 640, 640)\n",
      "\n",
      "image 1/1 C:\\Users\\Mohammad\\Desktop\\New folder (2)\\archive-6\\train-pure\\train-pure\\images\\test\\India_006465_jpg.rf.2ac9ccc34722aea03b9e0252b6427df5.jpg: 640x640 6 pavements, 7.0ms\n",
      "Speed: 3.0ms preprocess, 7.0ms inference, 2.0ms postprocess per image at shape (1, 3, 640, 640)\n",
      "\n",
      "image 1/1 C:\\Users\\Mohammad\\Desktop\\New folder (2)\\archive-6\\train-pure\\train-pure\\images\\test\\G0024752_jpg.rf.b66767e75d04aa3863706635e997766d.jpg: 640x640 7 pavements, 6.5ms\n",
      "Speed: 2.8ms preprocess, 6.5ms inference, 2.4ms postprocess per image at shape (1, 3, 640, 640)\n",
      "\n",
      "image 1/1 C:\\Users\\Mohammad\\Desktop\\New folder (2)\\archive-6\\train-pure\\train-pure\\images\\test\\Japan_002902_jpg.rf.21b77d73e087e08fa5282e7c2b949f53.jpg: 640x640 2 pavements, 6.3ms\n",
      "Speed: 3.3ms preprocess, 6.3ms inference, 2.1ms postprocess per image at shape (1, 3, 640, 640)\n",
      "\n",
      "image 1/1 C:\\Users\\Mohammad\\Desktop\\New folder (2)\\archive-6\\train-pure\\train-pure\\images\\test\\G0043311_jpg.rf.bfb7c2c5fd9fb17231b91ee0d8ddcb16.jpg: 640x640 (no detections), 7.0ms\n",
      "Speed: 3.0ms preprocess, 7.0ms inference, 1.0ms postprocess per image at shape (1, 3, 640, 640)\n",
      "\n",
      "image 1/1 C:\\Users\\Mohammad\\Desktop\\New folder (2)\\archive-6\\train-pure\\train-pure\\images\\test\\img-1062_jpg.rf.423a3b6aeb9b705c9c85af629d2e808e.jpg: 640x640 3 pavements, 7.2ms\n",
      "Speed: 2.0ms preprocess, 7.2ms inference, 2.0ms postprocess per image at shape (1, 3, 640, 640)\n",
      "\n",
      "image 1/1 C:\\Users\\Mohammad\\Desktop\\New folder (2)\\archive-6\\train-pure\\train-pure\\images\\test\\Norway_000702_jpg.rf.9290af9f6d1d6736ece6d54b39dc3c24.jpg: 640x640 (no detections), 6.6ms\n",
      "Speed: 2.0ms preprocess, 6.6ms inference, 2.4ms postprocess per image at shape (1, 3, 640, 640)\n",
      "\n",
      "image 1/1 C:\\Users\\Mohammad\\Desktop\\New folder (2)\\archive-6\\train-pure\\train-pure\\images\\test\\img-6_jpg.rf.1f5bfed087df0c787d47ee466c25e2dd.jpg: 640x640 2 pavements, 7.0ms\n",
      "Speed: 2.0ms preprocess, 7.0ms inference, 3.5ms postprocess per image at shape (1, 3, 640, 640)\n",
      "\n",
      "image 1/1 C:\\Users\\Mohammad\\Desktop\\New folder (2)\\archive-6\\train-pure\\train-pure\\images\\test\\India_005071_jpg.rf.8b078f773fbe409e6d7b2800f775b436.jpg: 640x640 2 pavements, 7.0ms\n",
      "Speed: 2.0ms preprocess, 7.0ms inference, 3.4ms postprocess per image at shape (1, 3, 640, 640)\n",
      "\n",
      "image 1/1 C:\\Users\\Mohammad\\Desktop\\New folder (2)\\archive-6\\train-pure\\train-pure\\images\\test\\G0030296_jpg.rf.e94aadd1ddd230a52b48f6607545e4b6.jpg: 640x640 1 pavement, 6.6ms\n",
      "Speed: 2.1ms preprocess, 6.6ms inference, 2.0ms postprocess per image at shape (1, 3, 640, 640)\n",
      "\n",
      "image 1/1 C:\\Users\\Mohammad\\Desktop\\New folder (2)\\archive-6\\train-pure\\train-pure\\images\\test\\Japan_002689_jpg.rf.dca4727c38ed595a680ea985c969fef7.jpg: 640x640 3 pavements, 7.0ms\n",
      "Speed: 2.0ms preprocess, 7.0ms inference, 2.0ms postprocess per image at shape (1, 3, 640, 640)\n",
      "\n",
      "image 1/1 C:\\Users\\Mohammad\\Desktop\\New folder (2)\\archive-6\\train-pure\\train-pure\\images\\test\\Japan_000574_jpg.rf.df2e42ceb12689e1cdd8ab1e3aee4b1a.jpg: 640x640 1 pavement, 7.5ms\n",
      "Speed: 2.0ms preprocess, 7.5ms inference, 1.0ms postprocess per image at shape (1, 3, 640, 640)\n",
      "\n",
      "image 1/1 C:\\Users\\Mohammad\\Desktop\\New folder (2)\\archive-6\\train-pure\\train-pure\\images\\test\\G0051943_jpg.rf.f71a860769eac24cb4fab5857539235b.jpg: 640x640 1 pavement, 7.0ms\n",
      "Speed: 2.0ms preprocess, 7.0ms inference, 2.0ms postprocess per image at shape (1, 3, 640, 640)\n",
      "\n",
      "image 1/1 C:\\Users\\Mohammad\\Desktop\\New folder (2)\\archive-6\\train-pure\\train-pure\\images\\test\\United_States_002613_jpg.rf.8eadf1d0db9d5eff442c1c451e008891.jpg: 640x640 2 pavements, 7.0ms\n",
      "Speed: 2.0ms preprocess, 7.0ms inference, 2.0ms postprocess per image at shape (1, 3, 640, 640)\n",
      "\n",
      "image 1/1 C:\\Users\\Mohammad\\Desktop\\New folder (2)\\archive-6\\train-pure\\train-pure\\images\\test\\G0010759_jpg.rf.a519eabf7f67bb8322449433b5611b1b.jpg: 640x640 1 pavement, 6.8ms\n",
      "Speed: 3.3ms preprocess, 6.8ms inference, 1.2ms postprocess per image at shape (1, 3, 640, 640)\n",
      "\n",
      "image 1/1 C:\\Users\\Mohammad\\Desktop\\New folder (2)\\archive-6\\train-pure\\train-pure\\images\\test\\Japan_000950_jpg.rf.7bf18c7c3d478a616a663f0986282589.jpg: 640x640 1 pavement, 7.0ms\n",
      "Speed: 3.0ms preprocess, 7.0ms inference, 1.0ms postprocess per image at shape (1, 3, 640, 640)\n",
      "\n",
      "image 1/1 C:\\Users\\Mohammad\\Desktop\\New folder (2)\\archive-6\\train-pure\\train-pure\\images\\test\\G0029328_jpg.rf.659232fbf30197506aeafdb6b77d823b.jpg: 640x640 1 pavement, 7.5ms\n",
      "Speed: 2.0ms preprocess, 7.5ms inference, 2.0ms postprocess per image at shape (1, 3, 640, 640)\n",
      "\n",
      "image 1/1 C:\\Users\\Mohammad\\Desktop\\New folder (2)\\archive-6\\train-pure\\train-pure\\images\\test\\G0029454_jpg.rf.a669671461d2edc81d2c8194a25daf19.jpg: 640x640 1 pavement, 6.4ms\n",
      "Speed: 3.0ms preprocess, 6.4ms inference, 2.0ms postprocess per image at shape (1, 3, 640, 640)\n",
      "\n",
      "image 1/1 C:\\Users\\Mohammad\\Desktop\\New folder (2)\\archive-6\\train-pure\\train-pure\\images\\test\\G0267326_jpg.rf.fdf1300dbc9c6572a44dc5d3f76538cf.jpg: 640x640 3 pavements, 8.1ms\n",
      "Speed: 2.6ms preprocess, 8.1ms inference, 2.0ms postprocess per image at shape (1, 3, 640, 640)\n",
      "\n",
      "image 1/1 C:\\Users\\Mohammad\\Desktop\\New folder (2)\\archive-6\\train-pure\\train-pure\\images\\test\\India_002523_jpg.rf.ab60f6bc30cbcdf1bec32449697c30cd.jpg: 640x640 1 pavement, 6.4ms\n",
      "Speed: 2.3ms preprocess, 6.4ms inference, 2.0ms postprocess per image at shape (1, 3, 640, 640)\n",
      "\n",
      "image 1/1 C:\\Users\\Mohammad\\Desktop\\New folder (2)\\archive-6\\train-pure\\train-pure\\images\\test\\G0065039_jpg.rf.ac45eece99866068b3eee7d4bfb24034.jpg: 640x640 2 pavements, 7.0ms\n",
      "Speed: 3.1ms preprocess, 7.0ms inference, 1.8ms postprocess per image at shape (1, 3, 640, 640)\n",
      "\n",
      "image 1/1 C:\\Users\\Mohammad\\Desktop\\New folder (2)\\archive-6\\train-pure\\train-pure\\images\\test\\G0027891_jpg.rf.f4b0fb3fbe6524657c68cac48f0b11d3.jpg: 640x640 4 pavements, 7.0ms\n",
      "Speed: 3.0ms preprocess, 7.0ms inference, 1.0ms postprocess per image at shape (1, 3, 640, 640)\n",
      "\n",
      "image 1/1 C:\\Users\\Mohammad\\Desktop\\New folder (2)\\archive-6\\train-pure\\train-pure\\images\\test\\India_006466_jpg.rf.edb52241bcaddd500a38c9a0b83a3043.jpg: 640x640 4 pavements, 9.7ms\n",
      "Speed: 2.0ms preprocess, 9.7ms inference, 2.0ms postprocess per image at shape (1, 3, 640, 640)\n",
      "\n",
      "image 1/1 C:\\Users\\Mohammad\\Desktop\\New folder (2)\\archive-6\\train-pure\\train-pure\\images\\test\\img-435_jpg.rf.76096fa6bff48a559deee9c37a99afc0.jpg: 640x640 4 pavements, 6.4ms\n",
      "Speed: 3.0ms preprocess, 6.4ms inference, 2.5ms postprocess per image at shape (1, 3, 640, 640)\n",
      "\n",
      "image 1/1 C:\\Users\\Mohammad\\Desktop\\New folder (2)\\archive-6\\train-pure\\train-pure\\images\\test\\India_009841_jpg.rf.b12b84220ebba64d801af2f55c52d318.jpg: 640x640 5 pavements, 8.0ms\n",
      "Speed: 3.0ms preprocess, 8.0ms inference, 2.4ms postprocess per image at shape (1, 3, 640, 640)\n",
      "\n",
      "image 1/1 C:\\Users\\Mohammad\\Desktop\\New folder (2)\\archive-6\\train-pure\\train-pure\\images\\test\\G0031376_jpg.rf.2a54f6cacf3d24e47310a14266875265.jpg: 640x640 4 pavements, 9.0ms\n",
      "Speed: 3.0ms preprocess, 9.0ms inference, 2.0ms postprocess per image at shape (1, 3, 640, 640)\n",
      "\n",
      "image 1/1 C:\\Users\\Mohammad\\Desktop\\New folder (2)\\archive-6\\train-pure\\train-pure\\images\\test\\China_MotorBike_000328_jpg.rf.cf1e5d7b899fbfe8fa1ff65d30340aaf.jpg: 640x640 2 pavements, 9.3ms\n",
      "Speed: 2.0ms preprocess, 9.3ms inference, 1.0ms postprocess per image at shape (1, 3, 640, 640)\n",
      "\n",
      "image 1/1 C:\\Users\\Mohammad\\Desktop\\New folder (2)\\archive-6\\train-pure\\train-pure\\images\\test\\img-73_jpg.rf.210a94522cc07c6f465599e99f10dfdc.jpg: 640x640 2 pavements, 9.3ms\n",
      "Speed: 2.0ms preprocess, 9.3ms inference, 1.0ms postprocess per image at shape (1, 3, 640, 640)\n",
      "\n",
      "image 1/1 C:\\Users\\Mohammad\\Desktop\\New folder (2)\\archive-6\\train-pure\\train-pure\\images\\test\\Japan_001262_jpg.rf.da0c7aaeb43811700cecc4e86827e866.jpg: 640x640 4 pavements, 9.0ms\n",
      "Speed: 2.0ms preprocess, 9.0ms inference, 2.0ms postprocess per image at shape (1, 3, 640, 640)\n",
      "\n",
      "image 1/1 C:\\Users\\Mohammad\\Desktop\\New folder (2)\\archive-6\\train-pure\\train-pure\\images\\test\\img-19_jpg.rf.b4a6937e3057f6a322f3bf5f935ea895.jpg: 640x640 2 pavements, 8.5ms\n",
      "Speed: 3.0ms preprocess, 8.5ms inference, 2.0ms postprocess per image at shape (1, 3, 640, 640)\n",
      "\n",
      "image 1/1 C:\\Users\\Mohammad\\Desktop\\New folder (2)\\archive-6\\train-pure\\train-pure\\images\\test\\India_004958_jpg.rf.f48884d185ee6f8b52f6024818354b2b.jpg: 640x640 2 pavements, 9.0ms\n",
      "Speed: 2.0ms preprocess, 9.0ms inference, 2.0ms postprocess per image at shape (1, 3, 640, 640)\n",
      "\n",
      "image 1/1 C:\\Users\\Mohammad\\Desktop\\New folder (2)\\archive-6\\train-pure\\train-pure\\images\\test\\India_001491_jpg.rf.ba8d6ebc934fe23c8179e1b709c6650a.jpg: 640x640 1 pavement, 8.6ms\n",
      "Speed: 2.0ms preprocess, 8.6ms inference, 2.0ms postprocess per image at shape (1, 3, 640, 640)\n",
      "\n",
      "image 1/1 C:\\Users\\Mohammad\\Desktop\\New folder (2)\\archive-6\\train-pure\\train-pure\\images\\test\\G0090300_jpg.rf.fb6dcb09706f762f4ba17be33a043daa.jpg: 640x640 2 pavements, 9.2ms\n",
      "Speed: 3.4ms preprocess, 9.2ms inference, 2.0ms postprocess per image at shape (1, 3, 640, 640)\n",
      "\n",
      "image 1/1 C:\\Users\\Mohammad\\Desktop\\New folder (2)\\archive-6\\train-pure\\train-pure\\images\\test\\India_009013_jpg.rf.1dabc8483130986e0717800ee828f5d0.jpg: 640x640 2 pavements, 7.9ms\n",
      "Speed: 3.5ms preprocess, 7.9ms inference, 2.0ms postprocess per image at shape (1, 3, 640, 640)\n",
      "\n",
      "image 1/1 C:\\Users\\Mohammad\\Desktop\\New folder (2)\\archive-6\\train-pure\\train-pure\\images\\test\\img-1051_jpg.rf.74a60d3f782a17c81cc13cff5835c417.jpg: 640x640 5 pavements, 8.4ms\n",
      "Speed: 2.0ms preprocess, 8.4ms inference, 2.0ms postprocess per image at shape (1, 3, 640, 640)\n",
      "\n",
      "image 1/1 C:\\Users\\Mohammad\\Desktop\\New folder (2)\\archive-6\\train-pure\\train-pure\\images\\test\\img-1356_jpg.rf.b009a29621d70d430f40f46c1573bbe1.jpg: 640x640 2 pavements, 9.7ms\n",
      "Speed: 2.0ms preprocess, 9.7ms inference, 1.0ms postprocess per image at shape (1, 3, 640, 640)\n",
      "\n",
      "image 1/1 C:\\Users\\Mohammad\\Desktop\\New folder (2)\\archive-6\\train-pure\\train-pure\\images\\test\\India_009348_jpg.rf.13f3302fef6a9272597e98d6f1e92930.jpg: 640x640 2 pavements, 8.9ms\n",
      "Speed: 3.0ms preprocess, 8.9ms inference, 2.0ms postprocess per image at shape (1, 3, 640, 640)\n",
      "\n",
      "image 1/1 C:\\Users\\Mohammad\\Desktop\\New folder (2)\\archive-6\\train-pure\\train-pure\\images\\test\\G0029212_jpg.rf.d157c9883fc10fbc1791bae45972f366.jpg: 640x640 4 pavements, 8.4ms\n",
      "Speed: 3.0ms preprocess, 8.4ms inference, 2.0ms postprocess per image at shape (1, 3, 640, 640)\n",
      "\n",
      "image 1/1 C:\\Users\\Mohammad\\Desktop\\New folder (2)\\archive-6\\train-pure\\train-pure\\images\\test\\India_004136_jpg.rf.02a46b43682b4e6ba905be95b08e7a38.jpg: 640x640 (no detections), 8.7ms\n",
      "Speed: 2.3ms preprocess, 8.7ms inference, 1.1ms postprocess per image at shape (1, 3, 640, 640)\n",
      "\n",
      "image 1/1 C:\\Users\\Mohammad\\Desktop\\New folder (2)\\archive-6\\train-pure\\train-pure\\images\\test\\Japan_002188_jpg.rf.fc6cb4dad6ca9d4dccb630b8eec50b0c.jpg: 640x640 2 pavements, 8.0ms\n",
      "Speed: 2.2ms preprocess, 8.0ms inference, 2.0ms postprocess per image at shape (1, 3, 640, 640)\n",
      "\n",
      "image 1/1 C:\\Users\\Mohammad\\Desktop\\New folder (2)\\archive-6\\train-pure\\train-pure\\images\\test\\China_MotorBike_000195_jpg.rf.3c66e160e14e2e91a22fc14e19effe59.jpg: 640x640 3 pavements, 9.3ms\n",
      "Speed: 2.0ms preprocess, 9.3ms inference, 2.1ms postprocess per image at shape (1, 3, 640, 640)\n",
      "\n",
      "image 1/1 C:\\Users\\Mohammad\\Desktop\\New folder (2)\\archive-6\\train-pure\\train-pure\\images\\test\\img-572_jpg.rf.5ceaf583b9bbfbce8a74a66ebb27c484.jpg: 640x640 1 pavement, 9.5ms\n",
      "Speed: 2.1ms preprocess, 9.5ms inference, 1.3ms postprocess per image at shape (1, 3, 640, 640)\n",
      "\n",
      "image 1/1 C:\\Users\\Mohammad\\Desktop\\New folder (2)\\archive-6\\train-pure\\train-pure\\images\\test\\Norway_003232_jpg.rf.b1eb542e23b505fa8bcea01e96bf60b5.jpg: 640x640 2 pavements, 8.2ms\n",
      "Speed: 3.0ms preprocess, 8.2ms inference, 2.0ms postprocess per image at shape (1, 3, 640, 640)\n",
      "\n",
      "image 1/1 C:\\Users\\Mohammad\\Desktop\\New folder (2)\\archive-6\\train-pure\\train-pure\\images\\test\\G0011866_jpg.rf.bb551ffb0c303aaa44b7bd2a0d4c68d3.jpg: 640x640 (no detections), 9.8ms\n",
      "Speed: 2.0ms preprocess, 9.8ms inference, 1.0ms postprocess per image at shape (1, 3, 640, 640)\n",
      "\n",
      "image 1/1 C:\\Users\\Mohammad\\Desktop\\New folder (2)\\archive-6\\train-pure\\train-pure\\images\\test\\G0154847_jpg.rf.c8315f55588f7df244f7059acf313d29.jpg: 640x640 1 pavement, 8.2ms\n",
      "Speed: 3.0ms preprocess, 8.2ms inference, 2.1ms postprocess per image at shape (1, 3, 640, 640)\n",
      "\n",
      "image 1/1 C:\\Users\\Mohammad\\Desktop\\New folder (2)\\archive-6\\train-pure\\train-pure\\images\\test\\Norway_002826_jpg.rf.4e2160ce34a41c3ece0d6467e4c7a8f2.jpg: 640x640 1 pavement, 8.3ms\n",
      "Speed: 3.4ms preprocess, 8.3ms inference, 2.3ms postprocess per image at shape (1, 3, 640, 640)\n",
      "\n",
      "image 1/1 C:\\Users\\Mohammad\\Desktop\\New folder (2)\\archive-6\\train-pure\\train-pure\\images\\test\\Czech_002058_jpg.rf.0270ded7e8f0e27546546e62ed644e2f.jpg: 640x640 3 pavements, 9.0ms\n",
      "Speed: 3.0ms preprocess, 9.0ms inference, 2.0ms postprocess per image at shape (1, 3, 640, 640)\n",
      "\n",
      "image 1/1 C:\\Users\\Mohammad\\Desktop\\New folder (2)\\archive-6\\train-pure\\train-pure\\images\\test\\G0067041_jpg.rf.4e0cff568bd89107a872bf50feb3eeb0.jpg: 640x640 1 pavement, 8.7ms\n",
      "Speed: 2.0ms preprocess, 8.7ms inference, 4.5ms postprocess per image at shape (1, 3, 640, 640)\n",
      "\n",
      "image 1/1 C:\\Users\\Mohammad\\Desktop\\New folder (2)\\archive-6\\train-pure\\train-pure\\images\\test\\G0028597_jpg.rf.2d4b3cd68b5ed5eeed8b59f4cffc762c.jpg: 640x640 (no detections), 8.6ms\n",
      "Speed: 2.5ms preprocess, 8.6ms inference, 1.0ms postprocess per image at shape (1, 3, 640, 640)\n",
      "\n",
      "image 1/1 C:\\Users\\Mohammad\\Desktop\\New folder (2)\\archive-6\\train-pure\\train-pure\\images\\test\\G0064664_jpg.rf.c622c9186873f1283f7ffb797c01fc66.jpg: 640x640 (no detections), 9.5ms\n",
      "Speed: 4.0ms preprocess, 9.5ms inference, 1.0ms postprocess per image at shape (1, 3, 640, 640)\n",
      "\n",
      "image 1/1 C:\\Users\\Mohammad\\Desktop\\New folder (2)\\archive-6\\train-pure\\train-pure\\images\\test\\United_States_000739_jpg.rf.faee431cf19b34fcf86611fcdcf493a6.jpg: 640x640 1 pavement, 9.6ms\n",
      "Speed: 2.0ms preprocess, 9.6ms inference, 2.0ms postprocess per image at shape (1, 3, 640, 640)\n",
      "\n",
      "image 1/1 C:\\Users\\Mohammad\\Desktop\\New folder (2)\\archive-6\\train-pure\\train-pure\\images\\test\\India_000055_jpg.rf.4e7d36154a667ea3db8abbf73b5654c0.jpg: 640x640 1 pavement, 9.1ms\n",
      "Speed: 2.0ms preprocess, 9.1ms inference, 2.0ms postprocess per image at shape (1, 3, 640, 640)\n",
      "\n",
      "image 1/1 C:\\Users\\Mohammad\\Desktop\\New folder (2)\\archive-6\\train-pure\\train-pure\\images\\test\\G0459987_jpg.rf.8834534a845ab41a2edb8782cfd889f7.jpg: 640x640 (no detections), 9.0ms\n",
      "Speed: 2.0ms preprocess, 9.0ms inference, 1.0ms postprocess per image at shape (1, 3, 640, 640)\n",
      "\n",
      "image 1/1 C:\\Users\\Mohammad\\Desktop\\New folder (2)\\archive-6\\train-pure\\train-pure\\images\\test\\India_007001_jpg.rf.49fcfd431a3d60af2a1372608ac77250.jpg: 640x640 1 pavement, 9.0ms\n",
      "Speed: 2.5ms preprocess, 9.0ms inference, 2.0ms postprocess per image at shape (1, 3, 640, 640)\n",
      "\n",
      "image 1/1 C:\\Users\\Mohammad\\Desktop\\New folder (2)\\archive-6\\train-pure\\train-pure\\images\\test\\G0088291_jpg.rf.15d5f6c98807e4385d47517fe8fd02fd.jpg: 640x640 1 pavement, 9.3ms\n",
      "Speed: 2.0ms preprocess, 9.3ms inference, 1.3ms postprocess per image at shape (1, 3, 640, 640)\n"
     ]
    },
    {
     "data": {
      "text/plain": [
       "<Figure size 1000x1000 with 1 Axes>"
      ]
     },
     "metadata": {},
     "output_type": "display_data"
    },
    {
     "data": {
      "text/plain": [
       "<Figure size 1000x1000 with 1 Axes>"
      ]
     },
     "metadata": {},
     "output_type": "display_data"
    },
    {
     "data": {
      "text/plain": [
       "<Figure size 1000x1000 with 1 Axes>"
      ]
     },
     "metadata": {},
     "output_type": "display_data"
    },
    {
     "data": {
      "text/plain": [
       "<Figure size 1000x1000 with 1 Axes>"
      ]
     },
     "metadata": {},
     "output_type": "display_data"
    },
    {
     "data": {
      "text/plain": [
       "<Figure size 1000x1000 with 1 Axes>"
      ]
     },
     "metadata": {},
     "output_type": "display_data"
    },
    {
     "data": {
      "text/plain": [
       "<Figure size 1000x1000 with 1 Axes>"
      ]
     },
     "metadata": {},
     "output_type": "display_data"
    },
    {
     "data": {
      "text/plain": [
       "<Figure size 1000x1000 with 1 Axes>"
      ]
     },
     "metadata": {},
     "output_type": "display_data"
    },
    {
     "data": {
      "text/plain": [
       "<Figure size 1000x1000 with 1 Axes>"
      ]
     },
     "metadata": {},
     "output_type": "display_data"
    },
    {
     "data": {
      "text/plain": [
       "<Figure size 1000x1000 with 1 Axes>"
      ]
     },
     "metadata": {},
     "output_type": "display_data"
    },
    {
     "data": {
      "text/plain": [
       "<Figure size 1000x1000 with 1 Axes>"
      ]
     },
     "metadata": {},
     "output_type": "display_data"
    },
    {
     "data": {
      "text/plain": [
       "<Figure size 1000x1000 with 1 Axes>"
      ]
     },
     "metadata": {},
     "output_type": "display_data"
    },
    {
     "data": {
      "text/plain": [
       "<Figure size 1000x1000 with 1 Axes>"
      ]
     },
     "metadata": {},
     "output_type": "display_data"
    },
    {
     "data": {
      "text/plain": [
       "<Figure size 1000x1000 with 1 Axes>"
      ]
     },
     "metadata": {},
     "output_type": "display_data"
    },
    {
     "data": {
      "text/plain": [
       "<Figure size 1000x1000 with 1 Axes>"
      ]
     },
     "metadata": {},
     "output_type": "display_data"
    },
    {
     "data": {
      "text/plain": [
       "<Figure size 1000x1000 with 1 Axes>"
      ]
     },
     "metadata": {},
     "output_type": "display_data"
    },
    {
     "data": {
      "text/plain": [
       "<Figure size 1000x1000 with 1 Axes>"
      ]
     },
     "metadata": {},
     "output_type": "display_data"
    },
    {
     "data": {
      "text/plain": [
       "<Figure size 1000x1000 with 1 Axes>"
      ]
     },
     "metadata": {},
     "output_type": "display_data"
    },
    {
     "data": {
      "text/plain": [
       "<Figure size 1000x1000 with 1 Axes>"
      ]
     },
     "metadata": {},
     "output_type": "display_data"
    },
    {
     "data": {
      "text/plain": [
       "<Figure size 1000x1000 with 1 Axes>"
      ]
     },
     "metadata": {},
     "output_type": "display_data"
    },
    {
     "data": {
      "text/plain": [
       "<Figure size 1000x1000 with 1 Axes>"
      ]
     },
     "metadata": {},
     "output_type": "display_data"
    },
    {
     "data": {
      "text/plain": [
       "<Figure size 1000x1000 with 1 Axes>"
      ]
     },
     "metadata": {},
     "output_type": "display_data"
    },
    {
     "data": {
      "text/plain": [
       "<Figure size 1000x1000 with 1 Axes>"
      ]
     },
     "metadata": {},
     "output_type": "display_data"
    },
    {
     "data": {
      "text/plain": [
       "<Figure size 1000x1000 with 1 Axes>"
      ]
     },
     "metadata": {},
     "output_type": "display_data"
    },
    {
     "data": {
      "text/plain": [
       "<Figure size 1000x1000 with 1 Axes>"
      ]
     },
     "metadata": {},
     "output_type": "display_data"
    },
    {
     "data": {
      "text/plain": [
       "<Figure size 1000x1000 with 1 Axes>"
      ]
     },
     "metadata": {},
     "output_type": "display_data"
    },
    {
     "data": {
      "text/plain": [
       "<Figure size 1000x1000 with 1 Axes>"
      ]
     },
     "metadata": {},
     "output_type": "display_data"
    },
    {
     "data": {
      "text/plain": [
       "<Figure size 1000x1000 with 1 Axes>"
      ]
     },
     "metadata": {},
     "output_type": "display_data"
    },
    {
     "data": {
      "text/plain": [
       "<Figure size 1000x1000 with 1 Axes>"
      ]
     },
     "metadata": {},
     "output_type": "display_data"
    },
    {
     "data": {
      "text/plain": [
       "<Figure size 1000x1000 with 1 Axes>"
      ]
     },
     "metadata": {},
     "output_type": "display_data"
    },
    {
     "data": {
      "text/plain": [
       "<Figure size 1000x1000 with 1 Axes>"
      ]
     },
     "metadata": {},
     "output_type": "display_data"
    },
    {
     "data": {
      "text/plain": [
       "<Figure size 1000x1000 with 1 Axes>"
      ]
     },
     "metadata": {},
     "output_type": "display_data"
    },
    {
     "data": {
      "text/plain": [
       "<Figure size 1000x1000 with 1 Axes>"
      ]
     },
     "metadata": {},
     "output_type": "display_data"
    },
    {
     "data": {
      "text/plain": [
       "<Figure size 1000x1000 with 1 Axes>"
      ]
     },
     "metadata": {},
     "output_type": "display_data"
    },
    {
     "data": {
      "text/plain": [
       "<Figure size 1000x1000 with 1 Axes>"
      ]
     },
     "metadata": {},
     "output_type": "display_data"
    },
    {
     "data": {
      "text/plain": [
       "<Figure size 1000x1000 with 1 Axes>"
      ]
     },
     "metadata": {},
     "output_type": "display_data"
    },
    {
     "data": {
      "text/plain": [
       "<Figure size 1000x1000 with 1 Axes>"
      ]
     },
     "metadata": {},
     "output_type": "display_data"
    },
    {
     "data": {
      "text/plain": [
       "<Figure size 1000x1000 with 1 Axes>"
      ]
     },
     "metadata": {},
     "output_type": "display_data"
    },
    {
     "data": {
      "text/plain": [
       "<Figure size 1000x1000 with 1 Axes>"
      ]
     },
     "metadata": {},
     "output_type": "display_data"
    },
    {
     "data": {
      "text/plain": [
       "<Figure size 1000x1000 with 1 Axes>"
      ]
     },
     "metadata": {},
     "output_type": "display_data"
    },
    {
     "data": {
      "text/plain": [
       "<Figure size 1000x1000 with 1 Axes>"
      ]
     },
     "metadata": {},
     "output_type": "display_data"
    },
    {
     "data": {
      "text/plain": [
       "<Figure size 1000x1000 with 1 Axes>"
      ]
     },
     "metadata": {},
     "output_type": "display_data"
    },
    {
     "data": {
      "text/plain": [
       "<Figure size 1000x1000 with 1 Axes>"
      ]
     },
     "metadata": {},
     "output_type": "display_data"
    },
    {
     "data": {
      "text/plain": [
       "<Figure size 1000x1000 with 1 Axes>"
      ]
     },
     "metadata": {},
     "output_type": "display_data"
    },
    {
     "data": {
      "text/plain": [
       "<Figure size 1000x1000 with 1 Axes>"
      ]
     },
     "metadata": {},
     "output_type": "display_data"
    },
    {
     "data": {
      "text/plain": [
       "<Figure size 1000x1000 with 1 Axes>"
      ]
     },
     "metadata": {},
     "output_type": "display_data"
    },
    {
     "data": {
      "text/plain": [
       "<Figure size 1000x1000 with 1 Axes>"
      ]
     },
     "metadata": {},
     "output_type": "display_data"
    },
    {
     "data": {
      "text/plain": [
       "<Figure size 1000x1000 with 1 Axes>"
      ]
     },
     "metadata": {},
     "output_type": "display_data"
    },
    {
     "data": {
      "text/plain": [
       "<Figure size 1000x1000 with 1 Axes>"
      ]
     },
     "metadata": {},
     "output_type": "display_data"
    },
    {
     "data": {
      "text/plain": [
       "<Figure size 1000x1000 with 1 Axes>"
      ]
     },
     "metadata": {},
     "output_type": "display_data"
    },
    {
     "data": {
      "text/plain": [
       "<Figure size 1000x1000 with 1 Axes>"
      ]
     },
     "metadata": {},
     "output_type": "display_data"
    },
    {
     "data": {
      "text/plain": [
       "<Figure size 1000x1000 with 1 Axes>"
      ]
     },
     "metadata": {},
     "output_type": "display_data"
    },
    {
     "data": {
      "text/plain": [
       "<Figure size 1000x1000 with 1 Axes>"
      ]
     },
     "metadata": {},
     "output_type": "display_data"
    },
    {
     "data": {
      "text/plain": [
       "<Figure size 1000x1000 with 1 Axes>"
      ]
     },
     "metadata": {},
     "output_type": "display_data"
    },
    {
     "data": {
      "text/plain": [
       "<Figure size 1000x1000 with 1 Axes>"
      ]
     },
     "metadata": {},
     "output_type": "display_data"
    },
    {
     "data": {
      "text/plain": [
       "<Figure size 1000x1000 with 1 Axes>"
      ]
     },
     "metadata": {},
     "output_type": "display_data"
    },
    {
     "data": {
      "text/plain": [
       "<Figure size 1000x1000 with 1 Axes>"
      ]
     },
     "metadata": {},
     "output_type": "display_data"
    },
    {
     "data": {
      "text/plain": [
       "<Figure size 1000x1000 with 1 Axes>"
      ]
     },
     "metadata": {},
     "output_type": "display_data"
    },
    {
     "data": {
      "text/plain": [
       "<Figure size 1000x1000 with 1 Axes>"
      ]
     },
     "metadata": {},
     "output_type": "display_data"
    },
    {
     "data": {
      "text/plain": [
       "<Figure size 1000x1000 with 1 Axes>"
      ]
     },
     "metadata": {},
     "output_type": "display_data"
    },
    {
     "data": {
      "text/plain": [
       "<Figure size 1000x1000 with 1 Axes>"
      ]
     },
     "metadata": {},
     "output_type": "display_data"
    },
    {
     "data": {
      "text/plain": [
       "<Figure size 1000x1000 with 1 Axes>"
      ]
     },
     "metadata": {},
     "output_type": "display_data"
    },
    {
     "data": {
      "text/plain": [
       "<Figure size 1000x1000 with 1 Axes>"
      ]
     },
     "metadata": {},
     "output_type": "display_data"
    },
    {
     "data": {
      "text/plain": [
       "<Figure size 1000x1000 with 1 Axes>"
      ]
     },
     "metadata": {},
     "output_type": "display_data"
    },
    {
     "data": {
      "text/plain": [
       "<Figure size 1000x1000 with 1 Axes>"
      ]
     },
     "metadata": {},
     "output_type": "display_data"
    },
    {
     "data": {
      "text/plain": [
       "<Figure size 1000x1000 with 1 Axes>"
      ]
     },
     "metadata": {},
     "output_type": "display_data"
    },
    {
     "data": {
      "text/plain": [
       "<Figure size 1000x1000 with 1 Axes>"
      ]
     },
     "metadata": {},
     "output_type": "display_data"
    },
    {
     "data": {
      "text/plain": [
       "<Figure size 1000x1000 with 1 Axes>"
      ]
     },
     "metadata": {},
     "output_type": "display_data"
    },
    {
     "data": {
      "text/plain": [
       "<Figure size 1000x1000 with 1 Axes>"
      ]
     },
     "metadata": {},
     "output_type": "display_data"
    },
    {
     "data": {
      "text/plain": [
       "<Figure size 1000x1000 with 1 Axes>"
      ]
     },
     "metadata": {},
     "output_type": "display_data"
    },
    {
     "data": {
      "text/plain": [
       "<Figure size 1000x1000 with 1 Axes>"
      ]
     },
     "metadata": {},
     "output_type": "display_data"
    },
    {
     "data": {
      "text/plain": [
       "<Figure size 1000x1000 with 1 Axes>"
      ]
     },
     "metadata": {},
     "output_type": "display_data"
    },
    {
     "data": {
      "text/plain": [
       "<Figure size 1000x1000 with 1 Axes>"
      ]
     },
     "metadata": {},
     "output_type": "display_data"
    },
    {
     "data": {
      "text/plain": [
       "<Figure size 1000x1000 with 1 Axes>"
      ]
     },
     "metadata": {},
     "output_type": "display_data"
    },
    {
     "data": {
      "text/plain": [
       "<Figure size 1000x1000 with 1 Axes>"
      ]
     },
     "metadata": {},
     "output_type": "display_data"
    },
    {
     "data": {
      "text/plain": [
       "<Figure size 1000x1000 with 1 Axes>"
      ]
     },
     "metadata": {},
     "output_type": "display_data"
    },
    {
     "data": {
      "text/plain": [
       "<Figure size 1000x1000 with 1 Axes>"
      ]
     },
     "metadata": {},
     "output_type": "display_data"
    },
    {
     "data": {
      "text/plain": [
       "<Figure size 1000x1000 with 1 Axes>"
      ]
     },
     "metadata": {},
     "output_type": "display_data"
    },
    {
     "data": {
      "text/plain": [
       "<Figure size 1000x1000 with 1 Axes>"
      ]
     },
     "metadata": {},
     "output_type": "display_data"
    },
    {
     "data": {
      "text/plain": [
       "<Figure size 1000x1000 with 1 Axes>"
      ]
     },
     "metadata": {},
     "output_type": "display_data"
    },
    {
     "data": {
      "text/plain": [
       "<Figure size 1000x1000 with 1 Axes>"
      ]
     },
     "metadata": {},
     "output_type": "display_data"
    },
    {
     "data": {
      "text/plain": [
       "<Figure size 1000x1000 with 1 Axes>"
      ]
     },
     "metadata": {},
     "output_type": "display_data"
    },
    {
     "data": {
      "text/plain": [
       "<Figure size 1000x1000 with 1 Axes>"
      ]
     },
     "metadata": {},
     "output_type": "display_data"
    },
    {
     "data": {
      "text/plain": [
       "<Figure size 1000x1000 with 1 Axes>"
      ]
     },
     "metadata": {},
     "output_type": "display_data"
    },
    {
     "data": {
      "text/plain": [
       "<Figure size 1000x1000 with 1 Axes>"
      ]
     },
     "metadata": {},
     "output_type": "display_data"
    },
    {
     "data": {
      "text/plain": [
       "<Figure size 1000x1000 with 1 Axes>"
      ]
     },
     "metadata": {},
     "output_type": "display_data"
    },
    {
     "data": {
      "text/plain": [
       "<Figure size 1000x1000 with 1 Axes>"
      ]
     },
     "metadata": {},
     "output_type": "display_data"
    },
    {
     "data": {
      "text/plain": [
       "<Figure size 1000x1000 with 1 Axes>"
      ]
     },
     "metadata": {},
     "output_type": "display_data"
    },
    {
     "data": {
      "text/plain": [
       "<Figure size 1000x1000 with 1 Axes>"
      ]
     },
     "metadata": {},
     "output_type": "display_data"
    },
    {
     "data": {
      "text/plain": [
       "<Figure size 1000x1000 with 1 Axes>"
      ]
     },
     "metadata": {},
     "output_type": "display_data"
    },
    {
     "data": {
      "text/plain": [
       "<Figure size 1000x1000 with 1 Axes>"
      ]
     },
     "metadata": {},
     "output_type": "display_data"
    },
    {
     "data": {
      "text/plain": [
       "<Figure size 1000x1000 with 1 Axes>"
      ]
     },
     "metadata": {},
     "output_type": "display_data"
    },
    {
     "data": {
      "text/plain": [
       "<Figure size 1000x1000 with 1 Axes>"
      ]
     },
     "metadata": {},
     "output_type": "display_data"
    },
    {
     "data": {
      "text/plain": [
       "<Figure size 1000x1000 with 1 Axes>"
      ]
     },
     "metadata": {},
     "output_type": "display_data"
    },
    {
     "data": {
      "text/plain": [
       "<Figure size 1000x1000 with 1 Axes>"
      ]
     },
     "metadata": {},
     "output_type": "display_data"
    },
    {
     "data": {
      "text/plain": [
       "<Figure size 1000x1000 with 1 Axes>"
      ]
     },
     "metadata": {},
     "output_type": "display_data"
    },
    {
     "data": {
      "text/plain": [
       "<Figure size 1000x1000 with 1 Axes>"
      ]
     },
     "metadata": {},
     "output_type": "display_data"
    },
    {
     "data": {
      "text/plain": [
       "<Figure size 1000x1000 with 1 Axes>"
      ]
     },
     "metadata": {},
     "output_type": "display_data"
    },
    {
     "data": {
      "text/plain": [
       "<Figure size 1000x1000 with 1 Axes>"
      ]
     },
     "metadata": {},
     "output_type": "display_data"
    },
    {
     "data": {
      "text/plain": [
       "<Figure size 1000x1000 with 1 Axes>"
      ]
     },
     "metadata": {},
     "output_type": "display_data"
    },
    {
     "data": {
      "text/plain": [
       "<Figure size 1000x1000 with 1 Axes>"
      ]
     },
     "metadata": {},
     "output_type": "display_data"
    },
    {
     "data": {
      "text/plain": [
       "<Figure size 1000x1000 with 1 Axes>"
      ]
     },
     "metadata": {},
     "output_type": "display_data"
    },
    {
     "data": {
      "text/plain": [
       "<Figure size 1000x1000 with 1 Axes>"
      ]
     },
     "metadata": {},
     "output_type": "display_data"
    },
    {
     "data": {
      "text/plain": [
       "<Figure size 1000x1000 with 1 Axes>"
      ]
     },
     "metadata": {},
     "output_type": "display_data"
    },
    {
     "data": {
      "text/plain": [
       "<Figure size 1000x1000 with 1 Axes>"
      ]
     },
     "metadata": {},
     "output_type": "display_data"
    },
    {
     "data": {
      "text/plain": [
       "<Figure size 1000x1000 with 1 Axes>"
      ]
     },
     "metadata": {},
     "output_type": "display_data"
    },
    {
     "data": {
      "text/plain": [
       "<Figure size 1000x1000 with 1 Axes>"
      ]
     },
     "metadata": {},
     "output_type": "display_data"
    },
    {
     "data": {
      "text/plain": [
       "<Figure size 1000x1000 with 1 Axes>"
      ]
     },
     "metadata": {},
     "output_type": "display_data"
    },
    {
     "data": {
      "text/plain": [
       "<Figure size 1000x1000 with 1 Axes>"
      ]
     },
     "metadata": {},
     "output_type": "display_data"
    },
    {
     "data": {
      "text/plain": [
       "<Figure size 1000x1000 with 1 Axes>"
      ]
     },
     "metadata": {},
     "output_type": "display_data"
    },
    {
     "data": {
      "text/plain": [
       "<Figure size 1000x1000 with 1 Axes>"
      ]
     },
     "metadata": {},
     "output_type": "display_data"
    },
    {
     "data": {
      "text/plain": [
       "<Figure size 1000x1000 with 1 Axes>"
      ]
     },
     "metadata": {},
     "output_type": "display_data"
    },
    {
     "data": {
      "text/plain": [
       "<Figure size 1000x1000 with 1 Axes>"
      ]
     },
     "metadata": {},
     "output_type": "display_data"
    },
    {
     "data": {
      "text/plain": [
       "<Figure size 1000x1000 with 1 Axes>"
      ]
     },
     "metadata": {},
     "output_type": "display_data"
    },
    {
     "data": {
      "text/plain": [
       "<Figure size 1000x1000 with 1 Axes>"
      ]
     },
     "metadata": {},
     "output_type": "display_data"
    },
    {
     "data": {
      "text/plain": [
       "<Figure size 1000x1000 with 1 Axes>"
      ]
     },
     "metadata": {},
     "output_type": "display_data"
    },
    {
     "data": {
      "text/plain": [
       "<Figure size 1000x1000 with 1 Axes>"
      ]
     },
     "metadata": {},
     "output_type": "display_data"
    },
    {
     "data": {
      "text/plain": [
       "<Figure size 1000x1000 with 1 Axes>"
      ]
     },
     "metadata": {},
     "output_type": "display_data"
    },
    {
     "data": {
      "text/plain": [
       "<Figure size 1000x1000 with 1 Axes>"
      ]
     },
     "metadata": {},
     "output_type": "display_data"
    },
    {
     "data": {
      "text/plain": [
       "<Figure size 1000x1000 with 1 Axes>"
      ]
     },
     "metadata": {},
     "output_type": "display_data"
    },
    {
     "data": {
      "text/plain": [
       "<Figure size 1000x1000 with 1 Axes>"
      ]
     },
     "metadata": {},
     "output_type": "display_data"
    },
    {
     "data": {
      "text/plain": [
       "<Figure size 1000x1000 with 1 Axes>"
      ]
     },
     "metadata": {},
     "output_type": "display_data"
    },
    {
     "data": {
      "text/plain": [
       "<Figure size 1000x1000 with 1 Axes>"
      ]
     },
     "metadata": {},
     "output_type": "display_data"
    },
    {
     "data": {
      "text/plain": [
       "<Figure size 1000x1000 with 1 Axes>"
      ]
     },
     "metadata": {},
     "output_type": "display_data"
    },
    {
     "data": {
      "text/plain": [
       "<Figure size 1000x1000 with 1 Axes>"
      ]
     },
     "metadata": {},
     "output_type": "display_data"
    },
    {
     "data": {
      "text/plain": [
       "<Figure size 1000x1000 with 1 Axes>"
      ]
     },
     "metadata": {},
     "output_type": "display_data"
    },
    {
     "data": {
      "text/plain": [
       "<Figure size 1000x1000 with 1 Axes>"
      ]
     },
     "metadata": {},
     "output_type": "display_data"
    },
    {
     "data": {
      "text/plain": [
       "<Figure size 1000x1000 with 1 Axes>"
      ]
     },
     "metadata": {},
     "output_type": "display_data"
    },
    {
     "data": {
      "text/plain": [
       "<Figure size 1000x1000 with 1 Axes>"
      ]
     },
     "metadata": {},
     "output_type": "display_data"
    },
    {
     "data": {
      "text/plain": [
       "<Figure size 1000x1000 with 1 Axes>"
      ]
     },
     "metadata": {},
     "output_type": "display_data"
    },
    {
     "data": {
      "text/plain": [
       "<Figure size 1000x1000 with 1 Axes>"
      ]
     },
     "metadata": {},
     "output_type": "display_data"
    },
    {
     "data": {
      "text/plain": [
       "<Figure size 1000x1000 with 1 Axes>"
      ]
     },
     "metadata": {},
     "output_type": "display_data"
    },
    {
     "data": {
      "text/plain": [
       "<Figure size 1000x1000 with 1 Axes>"
      ]
     },
     "metadata": {},
     "output_type": "display_data"
    },
    {
     "data": {
      "text/plain": [
       "<Figure size 1000x1000 with 1 Axes>"
      ]
     },
     "metadata": {},
     "output_type": "display_data"
    },
    {
     "data": {
      "text/plain": [
       "<Figure size 1000x1000 with 1 Axes>"
      ]
     },
     "metadata": {},
     "output_type": "display_data"
    },
    {
     "data": {
      "text/plain": [
       "<Figure size 1000x1000 with 1 Axes>"
      ]
     },
     "metadata": {},
     "output_type": "display_data"
    },
    {
     "data": {
      "text/plain": [
       "<Figure size 1000x1000 with 1 Axes>"
      ]
     },
     "metadata": {},
     "output_type": "display_data"
    },
    {
     "data": {
      "text/plain": [
       "<Figure size 1000x1000 with 1 Axes>"
      ]
     },
     "metadata": {},
     "output_type": "display_data"
    },
    {
     "data": {
      "text/plain": [
       "<Figure size 1000x1000 with 1 Axes>"
      ]
     },
     "metadata": {},
     "output_type": "display_data"
    },
    {
     "data": {
      "text/plain": [
       "<Figure size 1000x1000 with 1 Axes>"
      ]
     },
     "metadata": {},
     "output_type": "display_data"
    },
    {
     "data": {
      "text/plain": [
       "<Figure size 1000x1000 with 1 Axes>"
      ]
     },
     "metadata": {},
     "output_type": "display_data"
    },
    {
     "data": {
      "text/plain": [
       "<Figure size 1000x1000 with 1 Axes>"
      ]
     },
     "metadata": {},
     "output_type": "display_data"
    },
    {
     "data": {
      "text/plain": [
       "<Figure size 1000x1000 with 1 Axes>"
      ]
     },
     "metadata": {},
     "output_type": "display_data"
    },
    {
     "data": {
      "text/plain": [
       "<Figure size 1000x1000 with 1 Axes>"
      ]
     },
     "metadata": {},
     "output_type": "display_data"
    },
    {
     "data": {
      "text/plain": [
       "<Figure size 1000x1000 with 1 Axes>"
      ]
     },
     "metadata": {},
     "output_type": "display_data"
    },
    {
     "data": {
      "text/plain": [
       "<Figure size 1000x1000 with 1 Axes>"
      ]
     },
     "metadata": {},
     "output_type": "display_data"
    },
    {
     "data": {
      "text/plain": [
       "<Figure size 1000x1000 with 1 Axes>"
      ]
     },
     "metadata": {},
     "output_type": "display_data"
    },
    {
     "data": {
      "text/plain": [
       "<Figure size 1000x1000 with 1 Axes>"
      ]
     },
     "metadata": {},
     "output_type": "display_data"
    },
    {
     "data": {
      "text/plain": [
       "<Figure size 1000x1000 with 1 Axes>"
      ]
     },
     "metadata": {},
     "output_type": "display_data"
    },
    {
     "data": {
      "text/plain": [
       "<Figure size 1000x1000 with 1 Axes>"
      ]
     },
     "metadata": {},
     "output_type": "display_data"
    },
    {
     "data": {
      "text/plain": [
       "<Figure size 1000x1000 with 1 Axes>"
      ]
     },
     "metadata": {},
     "output_type": "display_data"
    },
    {
     "data": {
      "text/plain": [
       "<Figure size 1000x1000 with 1 Axes>"
      ]
     },
     "metadata": {},
     "output_type": "display_data"
    },
    {
     "data": {
      "text/plain": [
       "<Figure size 1000x1000 with 1 Axes>"
      ]
     },
     "metadata": {},
     "output_type": "display_data"
    },
    {
     "data": {
      "text/plain": [
       "<Figure size 1000x1000 with 1 Axes>"
      ]
     },
     "metadata": {},
     "output_type": "display_data"
    },
    {
     "data": {
      "text/plain": [
       "<Figure size 1000x1000 with 1 Axes>"
      ]
     },
     "metadata": {},
     "output_type": "display_data"
    },
    {
     "data": {
      "text/plain": [
       "<Figure size 1000x1000 with 1 Axes>"
      ]
     },
     "metadata": {},
     "output_type": "display_data"
    },
    {
     "data": {
      "text/plain": [
       "<Figure size 1000x1000 with 1 Axes>"
      ]
     },
     "metadata": {},
     "output_type": "display_data"
    },
    {
     "data": {
      "text/plain": [
       "<Figure size 1000x1000 with 1 Axes>"
      ]
     },
     "metadata": {},
     "output_type": "display_data"
    },
    {
     "data": {
      "text/plain": [
       "<Figure size 1000x1000 with 1 Axes>"
      ]
     },
     "metadata": {},
     "output_type": "display_data"
    },
    {
     "data": {
      "text/plain": [
       "<Figure size 1000x1000 with 1 Axes>"
      ]
     },
     "metadata": {},
     "output_type": "display_data"
    },
    {
     "data": {
      "text/plain": [
       "<Figure size 1000x1000 with 1 Axes>"
      ]
     },
     "metadata": {},
     "output_type": "display_data"
    },
    {
     "data": {
      "text/plain": [
       "<Figure size 1000x1000 with 1 Axes>"
      ]
     },
     "metadata": {},
     "output_type": "display_data"
    },
    {
     "data": {
      "text/plain": [
       "<Figure size 1000x1000 with 1 Axes>"
      ]
     },
     "metadata": {},
     "output_type": "display_data"
    },
    {
     "data": {
      "text/plain": [
       "<Figure size 1000x1000 with 1 Axes>"
      ]
     },
     "metadata": {},
     "output_type": "display_data"
    },
    {
     "data": {
      "text/plain": [
       "<Figure size 1000x1000 with 1 Axes>"
      ]
     },
     "metadata": {},
     "output_type": "display_data"
    },
    {
     "data": {
      "text/plain": [
       "<Figure size 1000x1000 with 1 Axes>"
      ]
     },
     "metadata": {},
     "output_type": "display_data"
    },
    {
     "data": {
      "text/plain": [
       "<Figure size 1000x1000 with 1 Axes>"
      ]
     },
     "metadata": {},
     "output_type": "display_data"
    },
    {
     "data": {
      "text/plain": [
       "<Figure size 1000x1000 with 1 Axes>"
      ]
     },
     "metadata": {},
     "output_type": "display_data"
    },
    {
     "data": {
      "text/plain": [
       "<Figure size 1000x1000 with 1 Axes>"
      ]
     },
     "metadata": {},
     "output_type": "display_data"
    },
    {
     "data": {
      "text/plain": [
       "<Figure size 1000x1000 with 1 Axes>"
      ]
     },
     "metadata": {},
     "output_type": "display_data"
    },
    {
     "data": {
      "text/plain": [
       "<Figure size 1000x1000 with 1 Axes>"
      ]
     },
     "metadata": {},
     "output_type": "display_data"
    },
    {
     "data": {
      "text/plain": [
       "<Figure size 1000x1000 with 1 Axes>"
      ]
     },
     "metadata": {},
     "output_type": "display_data"
    },
    {
     "data": {
      "text/plain": [
       "<Figure size 1000x1000 with 1 Axes>"
      ]
     },
     "metadata": {},
     "output_type": "display_data"
    },
    {
     "data": {
      "text/plain": [
       "<Figure size 1000x1000 with 1 Axes>"
      ]
     },
     "metadata": {},
     "output_type": "display_data"
    },
    {
     "data": {
      "text/plain": [
       "<Figure size 1000x1000 with 1 Axes>"
      ]
     },
     "metadata": {},
     "output_type": "display_data"
    },
    {
     "data": {
      "text/plain": [
       "<Figure size 1000x1000 with 1 Axes>"
      ]
     },
     "metadata": {},
     "output_type": "display_data"
    },
    {
     "data": {
      "text/plain": [
       "<Figure size 1000x1000 with 1 Axes>"
      ]
     },
     "metadata": {},
     "output_type": "display_data"
    },
    {
     "data": {
      "text/plain": [
       "<Figure size 1000x1000 with 1 Axes>"
      ]
     },
     "metadata": {},
     "output_type": "display_data"
    },
    {
     "data": {
      "text/plain": [
       "<Figure size 1000x1000 with 1 Axes>"
      ]
     },
     "metadata": {},
     "output_type": "display_data"
    },
    {
     "data": {
      "text/plain": [
       "<Figure size 1000x1000 with 1 Axes>"
      ]
     },
     "metadata": {},
     "output_type": "display_data"
    },
    {
     "data": {
      "text/plain": [
       "<Figure size 1000x1000 with 1 Axes>"
      ]
     },
     "metadata": {},
     "output_type": "display_data"
    },
    {
     "data": {
      "text/plain": [
       "<Figure size 1000x1000 with 1 Axes>"
      ]
     },
     "metadata": {},
     "output_type": "display_data"
    },
    {
     "data": {
      "text/plain": [
       "<Figure size 1000x1000 with 1 Axes>"
      ]
     },
     "metadata": {},
     "output_type": "display_data"
    },
    {
     "data": {
      "text/plain": [
       "<Figure size 1000x1000 with 1 Axes>"
      ]
     },
     "metadata": {},
     "output_type": "display_data"
    },
    {
     "data": {
      "text/plain": [
       "<Figure size 1000x1000 with 1 Axes>"
      ]
     },
     "metadata": {},
     "output_type": "display_data"
    },
    {
     "data": {
      "text/plain": [
       "<Figure size 1000x1000 with 1 Axes>"
      ]
     },
     "metadata": {},
     "output_type": "display_data"
    },
    {
     "data": {
      "text/plain": [
       "<Figure size 1000x1000 with 1 Axes>"
      ]
     },
     "metadata": {},
     "output_type": "display_data"
    },
    {
     "data": {
      "text/plain": [
       "<Figure size 1000x1000 with 1 Axes>"
      ]
     },
     "metadata": {},
     "output_type": "display_data"
    },
    {
     "data": {
      "text/plain": [
       "<Figure size 1000x1000 with 1 Axes>"
      ]
     },
     "metadata": {},
     "output_type": "display_data"
    },
    {
     "data": {
      "text/plain": [
       "<Figure size 1000x1000 with 1 Axes>"
      ]
     },
     "metadata": {},
     "output_type": "display_data"
    },
    {
     "data": {
      "text/plain": [
       "<Figure size 1000x1000 with 1 Axes>"
      ]
     },
     "metadata": {},
     "output_type": "display_data"
    },
    {
     "data": {
      "text/plain": [
       "<Figure size 1000x1000 with 1 Axes>"
      ]
     },
     "metadata": {},
     "output_type": "display_data"
    },
    {
     "data": {
      "text/plain": [
       "<Figure size 1000x1000 with 1 Axes>"
      ]
     },
     "metadata": {},
     "output_type": "display_data"
    },
    {
     "data": {
      "text/plain": [
       "<Figure size 1000x1000 with 1 Axes>"
      ]
     },
     "metadata": {},
     "output_type": "display_data"
    },
    {
     "data": {
      "text/plain": [
       "<Figure size 1000x1000 with 1 Axes>"
      ]
     },
     "metadata": {},
     "output_type": "display_data"
    },
    {
     "data": {
      "text/plain": [
       "<Figure size 1000x1000 with 1 Axes>"
      ]
     },
     "metadata": {},
     "output_type": "display_data"
    },
    {
     "data": {
      "text/plain": [
       "<Figure size 1000x1000 with 1 Axes>"
      ]
     },
     "metadata": {},
     "output_type": "display_data"
    },
    {
     "data": {
      "text/plain": [
       "<Figure size 1000x1000 with 1 Axes>"
      ]
     },
     "metadata": {},
     "output_type": "display_data"
    },
    {
     "data": {
      "text/plain": [
       "<Figure size 1000x1000 with 1 Axes>"
      ]
     },
     "metadata": {},
     "output_type": "display_data"
    },
    {
     "data": {
      "text/plain": [
       "<Figure size 1000x1000 with 1 Axes>"
      ]
     },
     "metadata": {},
     "output_type": "display_data"
    },
    {
     "data": {
      "text/plain": [
       "<Figure size 1000x1000 with 1 Axes>"
      ]
     },
     "metadata": {},
     "output_type": "display_data"
    }
   ],
   "source": [
    "import os\n",
    "import cv2\n",
    "import shutil\n",
    "import random\n",
    "import matplotlib.pyplot as plt\n",
    "\n",
    "# Function to draw bounding boxes from labels with custom text\n",
    "def draw_bounding_boxes_from_labels(image_path, label_path, class_names, output_dir, custom_text='Damage'):\n",
    "    image = cv2.imread(image_path)\n",
    "    h, w = image.shape[:2]\n",
    "\n",
    "    with open(label_path, 'r') as f:\n",
    "        labels = f.readlines()\n",
    "\n",
    "    for label in labels:\n",
    "        parts = label.strip().split()\n",
    "        class_id = int(parts[0])\n",
    "        x_center, y_center, box_width, box_height = map(float, parts[1:])\n",
    "\n",
    "        x1 = int((x_center - box_width / 2) * w)\n",
    "        y1 = int((y_center - box_height / 2) * h)\n",
    "        x2 = int((x_center + box_width / 2) * w)\n",
    "        y2 = int((y_center + box_height / 2) * h)\n",
    "\n",
    "        color = (255, 0, 0)  # Red color for original bounding box\n",
    "        label_text = custom_text  # Custom label text\n",
    "        cv2.rectangle(image, (x1, y1), (x2, y2), color, 2)\n",
    "        cv2.putText(image, label_text, (x1, y1 - 10), cv2.FONT_HERSHEY_SIMPLEX, 0.9, color, 2)\n",
    "\n",
    "    # Save the image with bounding boxes\n",
    "    os.makedirs(output_dir, exist_ok=True)\n",
    "    base_name = os.path.basename(image_path)\n",
    "    file_name, file_ext = os.path.splitext(base_name)\n",
    "    output_path = os.path.join(output_dir, file_name + '_orig' + file_ext)\n",
    "    cv2.imwrite(output_path, image)\n",
    "    return output_path\n",
    "\n",
    "# Define a function to plot predicted bounding boxes on images with custom text\n",
    "def plot_predicted_bounding_boxes(image_path, boxes, scores, labels, class_names, output_dir, conf_threshold=0.5, custom_text='Damage'):\n",
    "    image = cv2.imread(image_path)\n",
    "    for box, score, label in zip(boxes, scores, labels):\n",
    "        if score >= conf_threshold:\n",
    "            x1, y1, x2, y2 = map(int, box)\n",
    "            color = (0, 255, 0)  # Green color for predicted bounding box\n",
    "            label_text = f\"{custom_text}: {score:.2f}\"  # Custom label text\n",
    "            cv2.rectangle(image, (x1, y1), (x2, y2), color, 2)\n",
    "            cv2.putText(image, label_text, (x1, y1 - 10), cv2.FONT_HERSHEY_SIMPLEX, 0.9, color, 2)\n",
    "\n",
    "    # Save the image with bounding boxes\n",
    "    os.makedirs(output_dir, exist_ok=True)\n",
    "    base_name = os.path.basename(image_path)\n",
    "    file_name, file_ext = os.path.splitext(base_name)\n",
    "    output_path = os.path.join(output_dir, file_name + '_pred' + file_ext)\n",
    "    cv2.imwrite(output_path, image)\n",
    "    return output_path\n",
    "\n",
    "# Get all test image paths\n",
    "test_image_paths = [os.path.join(test_images_dir, img) for img in os.listdir(test_images_dir) if img.endswith(('.png', '.jpg', '.jpeg'))]\n",
    "\n",
    "# Randomly select 20 images from the test set\n",
    "num_images_to_visualize = 100\n",
    "random_image_paths = random.sample(test_image_paths, num_images_to_visualize)\n",
    "\n",
    "# Run inference on the selected test images and visualize results\n",
    "predictions = []\n",
    "for img_path in random_image_paths:\n",
    "    results = model(img_path)\n",
    "    predictions.append((img_path, results[0].boxes.xyxy.cpu().numpy(), results[0].boxes.conf.cpu().numpy(), results[0].boxes.cls.cpu().numpy()))\n",
    "\n",
    "# Visualize and save predictions\n",
    "output_dir = \"D:\\\\YOLO\\\\New folder\"\n",
    "saved_image_paths = []\n",
    "for img_path, boxes, scores, labels in predictions:\n",
    "    # Get the corresponding label file path\n",
    "    label_path = img_path.replace('images', 'labels').replace('.jpg', '.txt').replace('.png', '.txt').replace('.jpeg', '.txt')\n",
    "\n",
    "    # Draw bounding boxes from labels on the original image and save it\n",
    "    original_output_path = draw_bounding_boxes_from_labels(img_path, label_path, class_names=data_config['names'], output_dir=output_dir, custom_text='Damage')\n",
    "    \n",
    "    # Plot predicted bounding boxes and save the image with predicted bounding boxes\n",
    "    saved_image_path = plot_predicted_bounding_boxes(img_path, boxes, scores, labels, class_names=data_config['names'], output_dir=output_dir, custom_text='Damage')\n",
    "    saved_image_paths.append((original_output_path, saved_image_path))\n",
    "\n",
    "# Display the saved images\n",
    "for original_path, saved_image_path in saved_image_paths:\n",
    "    # Display original image with ground truth bounding boxes\n",
    "    original_img = cv2.imread(original_path)\n",
    "    plt.figure(figsize=(10, 10))\n",
    "    plt.title(\"Original Image with Ground Truth Bounding Boxes\")\n",
    "    plt.imshow(cv2.cvtColor(original_img, cv2.COLOR_BGR2RGB))\n",
    "    plt.axis('off')\n",
    "    plt.show()\n",
    "    \n",
    "    # Display image with predicted bounding boxes\n",
    "    pred_img = cv2.imread(saved_image_path)\n",
    "    plt.figure(figsize=(10, 10))\n",
    "    plt.title(\"Image with Predicted Bounding Boxes\")\n",
    "    plt.imshow(cv2.cvtColor(pred_img, cv2.COLOR_BGR2RGB))\n",
    "    plt.axis('off')\n",
    "    plt.show()\n"
   ]
  },
  {
   "cell_type": "code",
   "execution_count": null,
   "id": "63a865a7-97fb-4453-8bd1-6e0acb8698a0",
   "metadata": {},
   "outputs": [],
   "source": []
  }
 ],
 "metadata": {
  "kernelspec": {
   "display_name": "Python 3 (ipykernel)",
   "language": "python",
   "name": "python3"
  },
  "language_info": {
   "codemirror_mode": {
    "name": "ipython",
    "version": 3
   },
   "file_extension": ".py",
   "mimetype": "text/x-python",
   "name": "python",
   "nbconvert_exporter": "python",
   "pygments_lexer": "ipython3",
   "version": "3.12.4"
  }
 },
 "nbformat": 4,
 "nbformat_minor": 5
}
